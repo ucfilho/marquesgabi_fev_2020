{
  "nbformat": 4,
  "nbformat_minor": 0,
  "metadata": {
    "colab": {
      "name": "Color_Features_Determination_fev_06_2020.ipynb",
      "provenance": [],
      "collapsed_sections": [],
      "include_colab_link": true
    },
    "kernelspec": {
      "name": "python3",
      "display_name": "Python 3"
    },
    "accelerator": "GPU"
  },
  "cells": [
    {
      "cell_type": "markdown",
      "metadata": {
        "id": "view-in-github",
        "colab_type": "text"
      },
      "source": [
        "<a href=\"https://colab.research.google.com/github/ucfilho/marquesgabi_fev_2020/blob/master/Color_Features_Determination_fev_06_2020.ipynb\" target=\"_parent\"><img src=\"https://colab.research.google.com/assets/colab-badge.svg\" alt=\"Open In Colab\"/></a>"
      ]
    },
    {
      "cell_type": "code",
      "metadata": {
        "id": "W0wfLMP8nWAM",
        "colab_type": "code",
        "outputId": "d5561dd4-b159-4a28-fa0c-34274d9d309d",
        "colab": {
          "base_uri": "https://localhost:8080/",
          "height": 54
        }
      },
      "source": [
        "!git clone https://github.com/ucfilho/marquesgabi_fev_2020 #clonar do Github\n",
        "%cd marquesgabi_fev_2020"
      ],
      "execution_count": 0,
      "outputs": [
        {
          "output_type": "stream",
          "text": [
            "fatal: destination path 'marquesgabi_fev_2020' already exists and is not an empty directory.\n",
            "/content/marquesgabi_fev_2020\n"
          ],
          "name": "stdout"
        }
      ]
    },
    {
      "cell_type": "code",
      "metadata": {
        "id": "SzWdrvAgvBId",
        "colab_type": "code",
        "colab": {}
      },
      "source": [
        "import numpy as np\n",
        "import cv2\n",
        "from skimage import data\n",
        "import matplotlib.pyplot as plt\n",
        "import matplotlib\n",
        "import pandas as pd\n",
        "from skimage import io, util\n",
        "import os \n",
        "import zipfile\n",
        "from skimage import filters\n",
        "from skimage import exposure\n",
        "import skimage.feature as sk\n",
        "from google.colab import files\n",
        "import re\n",
        "import Go2BlackWhite\n",
        "\n",
        "%matplotlib inline"
      ],
      "execution_count": 0,
      "outputs": []
    },
    {
      "cell_type": "code",
      "metadata": {
        "id": "xoW1HoWp3qNO",
        "colab_type": "code",
        "colab": {}
      },
      "source": [
        "Size=20 # tamanho da foto\n",
        "Sub_Size=int(Size/5) # tamanho do fracionamento\n",
        "Row_Crop=1/2 # posicao do corte\n",
        "Crop=int(Size*Row_Crop)"
      ],
      "execution_count": 0,
      "outputs": []
    },
    {
      "cell_type": "code",
      "metadata": {
        "id": "h1Zsufcm9bfv",
        "colab_type": "code",
        "outputId": "5190a235-dc13-4e7f-a787-82bfe660e80e",
        "colab": {
          "base_uri": "https://localhost:8080/",
          "height": 35
        }
      },
      "source": [
        "'''\n",
        "QUANDO CALCULAR COR TEM QUE LER O ARQUIVO DE FOTOS E NAO A PLANILHA\n",
        "PORQUE O INTERESSE É O VALOR DA COR EM CADA PONTO\n",
        "'''"
      ],
      "execution_count": 0,
      "outputs": [
        {
          "output_type": "execute_result",
          "data": {
            "text/plain": [
              "'\\nQUANDO CALCULAR COR TEM QUE LER O ARQUIVO DE FOTOS E NAO A PLANILHA\\nPORQUE O INTERESSE É O VALOR DA COR EM CADA PONTO\\n'"
            ]
          },
          "metadata": {
            "tags": []
          },
          "execution_count": 4
        }
      ]
    },
    {
      "cell_type": "code",
      "metadata": {
        "id": "lTOhU1x5o0Hr",
        "colab_type": "code",
        "colab": {}
      },
      "source": [
        "Transfere='Fotos9Amostras.zip'"
      ],
      "execution_count": 0,
      "outputs": []
    },
    {
      "cell_type": "code",
      "metadata": {
        "id": "c43TnWalRs_H",
        "colab_type": "code",
        "colab": {}
      },
      "source": [
        "file_name = zipfile.ZipFile(Transfere, 'r')\n",
        "file_name.extractall()"
      ],
      "execution_count": 0,
      "outputs": []
    },
    {
      "cell_type": "code",
      "metadata": {
        "id": "MNJU84Vlj5u5",
        "colab_type": "code",
        "colab": {}
      },
      "source": [
        "# ww contain all photos in black and white\n",
        "ww,img_name=Go2BlackWhite.BlackWhite(Transfere,Size)"
      ],
      "execution_count": 0,
      "outputs": []
    },
    {
      "cell_type": "code",
      "metadata": {
        "id": "pMJdA-nxIpQO",
        "colab_type": "code",
        "colab": {}
      },
      "source": [
        "Num,Row,Col=np.asarray(ww).shape\n",
        "Idx=[]\n",
        "New_Colunm=[]\n",
        "\n",
        "for i in range(Num):\n",
        "  Media=np.mean(ww[i])\n",
        "  k=np.where(ww[i].ravel() > Media)\n",
        "  Idx.append(np.asarray(k).ravel())\n",
        "\n",
        "Quant=Size*Size\n",
        "for i in Idx:\n",
        "  #print(i)\n",
        "  New_Colunm.append(len(i)/Quant)\n",
        "#print(New_Colunm)"
      ],
      "execution_count": 0,
      "outputs": []
    },
    {
      "cell_type": "code",
      "metadata": {
        "id": "LKmJaSroR9XJ",
        "colab_type": "code",
        "outputId": "37958bd4-bf31-4bae-a2cc-62f9fcc13e8c",
        "colab": {
          "base_uri": "https://localhost:8080/",
          "height": 35
        }
      },
      "source": [
        "print(len(New_Colunm))"
      ],
      "execution_count": 0,
      "outputs": [
        {
          "output_type": "stream",
          "text": [
            "540\n"
          ],
          "name": "stdout"
        }
      ]
    },
    {
      "cell_type": "code",
      "metadata": {
        "id": "MukX2r3ys3tm",
        "colab_type": "code",
        "colab": {}
      },
      "source": [
        "# Find the list elements starting with specific letter\n",
        "subs = 'B'\n",
        "Buraco = [x for x in img_name if re.search(subs, x)] \n",
        "subs = 'G'\n",
        "Grao = [x for x in img_name if re.search(subs, x)] \n",
        "subs = 'I'\n",
        "Indef = [x for x in img_name if re.search(subs, x)] "
      ],
      "execution_count": 0,
      "outputs": []
    },
    {
      "cell_type": "code",
      "metadata": {
        "id": "U2ymyUPFiADf",
        "colab_type": "code",
        "colab": {}
      },
      "source": [
        "j=0\n",
        "cont=-1\n",
        "Posicao_Buraco=[]\n",
        "for i in img_name:\n",
        "  cont=cont+1\n",
        "  for k in Buraco:\n",
        "    if(i==k):\n",
        "      Posicao_Buraco.append(cont)\n",
        "j=0\n",
        "cont=-1\n",
        "Posicao_Grao=[]\n",
        "for i in img_name:\n",
        "  cont=cont+1\n",
        "  for k in Grao:\n",
        "    if(i==k):\n",
        "      Posicao_Grao.append(cont)\n",
        "\n",
        "j=0\n",
        "cont=-1\n",
        "Posicao_Indef=[]\n",
        "for i in img_name:\n",
        "  cont=cont+1\n",
        "  for k in Indef:\n",
        "    if(i==k):\n",
        "      Posicao_Indef.append(cont)\n",
        "\n",
        "# print(Posicao_Grao)\n",
        "# print(Posicao_Buraco)\n",
        "# print(Posicao_Indef)\n"
      ],
      "execution_count": 0,
      "outputs": []
    },
    {
      "cell_type": "code",
      "metadata": {
        "id": "9fPIt0WQfehg",
        "colab_type": "code",
        "colab": {}
      },
      "source": [
        "Nomes=['Color' ]\n",
        "matriz_x_b=np.asarray(New_Colunm)[Posicao_Buraco]\n",
        "df_buraco=pd.DataFrame(matriz_x_b,columns=Nomes) # print(df_buraco.head())\n",
        "matriz_x_g=np.asarray(New_Colunm)[Posicao_Grao]\n",
        "df_grao=pd.DataFrame(matriz_x_g,columns=Nomes)  # print(df_grao.head())\n",
        "matriz_x_i=np.asarray(New_Colunm)[Posicao_Indef]\n",
        "df_indef=pd.DataFrame(matriz_x_i,columns=Nomes) # print(df_indef.head())\n",
        "#print(df_buraco)\n",
        "#print(df_grao)\n",
        "#print(df_indef)"
      ],
      "execution_count": 0,
      "outputs": []
    },
    {
      "cell_type": "code",
      "metadata": {
        "id": "LxIrsxxQheWI",
        "colab_type": "code",
        "colab": {}
      },
      "source": [
        "df_grao.insert(0, \"Type\", \"grao\") \n",
        "#print(df_grao.head())"
      ],
      "execution_count": 0,
      "outputs": []
    },
    {
      "cell_type": "code",
      "metadata": {
        "id": "vC8z3p0PiBvl",
        "colab_type": "code",
        "colab": {}
      },
      "source": [
        "df_indef.insert(0, \"Type\", \"indef\") \n",
        "#print(df_indef.head())\n"
      ],
      "execution_count": 0,
      "outputs": []
    },
    {
      "cell_type": "code",
      "metadata": {
        "id": "Sn3PtvEViCft",
        "colab_type": "code",
        "colab": {}
      },
      "source": [
        "df_buraco.insert(0, \"Type\", \"buraco\") \n",
        "#print(df_buraco.head())"
      ],
      "execution_count": 0,
      "outputs": []
    },
    {
      "cell_type": "code",
      "metadata": {
        "id": "eIR3tLPGjO7v",
        "colab_type": "code",
        "colab": {}
      },
      "source": [
        "frames = [df_buraco, df_grao, df_indef]\n",
        "df=pd.concat(frames)"
      ],
      "execution_count": 0,
      "outputs": []
    },
    {
      "cell_type": "code",
      "metadata": {
        "id": "T9YcBtKGjUXp",
        "colab_type": "code",
        "outputId": "f83fb02b-5aca-4f3e-90fb-1d30eb65975c",
        "colab": {
          "base_uri": "https://localhost:8080/",
          "height": 399
        }
      },
      "source": [
        "print(df.iloc[70:90,:])"
      ],
      "execution_count": 0,
      "outputs": [
        {
          "output_type": "stream",
          "text": [
            "      Type   Color\n",
            "70  buraco  0.4650\n",
            "71  buraco  0.5150\n",
            "72  buraco  0.5475\n",
            "73  buraco  0.5400\n",
            "74  buraco  0.4675\n",
            "75  buraco  0.3825\n",
            "76  buraco  0.4725\n",
            "77  buraco  0.5050\n",
            "78  buraco  0.5100\n",
            "79  buraco  0.5475\n",
            "80  buraco  0.4475\n",
            "81  buraco  0.5050\n",
            "82  buraco  0.5100\n",
            "83  buraco  0.5025\n",
            "84  buraco  0.4725\n",
            "85  buraco  0.4650\n",
            "86  buraco  0.6425\n",
            "87  buraco  0.4275\n",
            "88  buraco  0.3775\n",
            "89  buraco  0.4475\n"
          ],
          "name": "stdout"
        }
      ]
    },
    {
      "cell_type": "code",
      "metadata": {
        "id": "hV4mpHeEsNj1",
        "colab_type": "code",
        "outputId": "46979729-6813-4bfe-e4f6-89c102a50ff3",
        "colab": {
          "base_uri": "https://localhost:8080/",
          "height": 35
        }
      },
      "source": [
        "print(len(df['Color']))"
      ],
      "execution_count": 0,
      "outputs": [
        {
          "output_type": "stream",
          "text": [
            "540\n"
          ],
          "name": "stdout"
        }
      ]
    },
    {
      "cell_type": "code",
      "metadata": {
        "id": "SpWqSZ77quOg",
        "colab_type": "code",
        "outputId": "ffacb5cb-9495-4012-abca-5d30f3179382",
        "colab": {
          "base_uri": "https://localhost:8080/",
          "height": 128
        }
      },
      "source": [
        "# found drive\n",
        "from google.colab import drive\n",
        "drive.mount('drive')"
      ],
      "execution_count": 0,
      "outputs": [
        {
          "output_type": "stream",
          "text": [
            "Go to this URL in a browser: https://accounts.google.com/o/oauth2/auth?client_id=947318989803-6bn6qk8qdgf4n4g3pfee6491hc0brc4i.apps.googleusercontent.com&redirect_uri=urn%3aietf%3awg%3aoauth%3a2.0%3aoob&response_type=code&scope=email%20https%3a%2f%2fwww.googleapis.com%2fauth%2fdocs.test%20https%3a%2f%2fwww.googleapis.com%2fauth%2fdrive%20https%3a%2f%2fwww.googleapis.com%2fauth%2fdrive.photos.readonly%20https%3a%2f%2fwww.googleapis.com%2fauth%2fpeopleapi.readonly\n",
            "\n",
            "Enter your authorization code:\n",
            "··········\n",
            "Mounted at drive\n"
          ],
          "name": "stdout"
        }
      ]
    },
    {
      "cell_type": "code",
      "metadata": {
        "id": "5DfnR4pTqW71",
        "colab_type": "code",
        "colab": {}
      },
      "source": [
        "# get csv file\n",
        "df.to_csv('Transfere_Color_ANN_fev_2020.csv')"
      ],
      "execution_count": 0,
      "outputs": []
    },
    {
      "cell_type": "code",
      "metadata": {
        "id": "i3NChQkTqT66",
        "colab_type": "code",
        "colab": {}
      },
      "source": [
        "# save in drive\n",
        "!cp Transfere_Color_ANN_fev_2020.csv drive/My\\ Drive/Maria_Gabriela_Textura_dados_jan_2020/"
      ],
      "execution_count": 0,
      "outputs": []
    }
  ]
}