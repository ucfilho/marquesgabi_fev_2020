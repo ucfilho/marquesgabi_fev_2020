{
  "nbformat": 4,
  "nbformat_minor": 0,
  "metadata": {
    "colab": {
      "name": "Matriz_rede_fev_06_2020.ipynb",
      "provenance": [],
      "collapsed_sections": [],
      "include_colab_link": true
    },
    "kernelspec": {
      "name": "python3",
      "display_name": "Python 3"
    },
    "accelerator": "GPU"
  },
  "cells": [
    {
      "cell_type": "markdown",
      "metadata": {
        "id": "view-in-github",
        "colab_type": "text"
      },
      "source": [
        "<a href=\"https://colab.research.google.com/github/ucfilho/marquesgabi_fev_2020/blob/master/Matriz_rede_fev_06_2020.ipynb\" target=\"_parent\"><img src=\"https://colab.research.google.com/assets/colab-badge.svg\" alt=\"Open In Colab\"/></a>"
      ]
    },
    {
      "cell_type": "code",
      "metadata": {
        "id": "SzWdrvAgvBId",
        "colab_type": "code",
        "colab": {}
      },
      "source": [
        "import numpy as np\n",
        "import cv2\n",
        "from skimage import data\n",
        "import matplotlib.pyplot as plt\n",
        "import matplotlib\n",
        "import pandas as pd\n",
        "from skimage import io, util\n",
        "import os \n",
        "import zipfile\n",
        "from skimage import filters\n",
        "from skimage import exposure\n",
        "import skimage.feature as sk\n",
        "from google.colab import files\n",
        "from scipy import stats\n",
        "from scipy.signal import find_peaks\n",
        "from scipy.signal import peak_prominences\n",
        "from scipy.signal import peak_widths\n",
        "from scipy.integrate import simps\n",
        "%matplotlib inline"
      ],
      "execution_count": 0,
      "outputs": []
    },
    {
      "cell_type": "code",
      "metadata": {
        "id": "h1Zsufcm9bfv",
        "colab_type": "code",
        "outputId": "8cf71435-20db-4d9e-a168-915285489526",
        "colab": {
          "base_uri": "https://localhost:8080/",
          "height": 52
        }
      },
      "source": [
        "!git clone https://github.com/ucfilho/marquesgabi_fev_2020 #clonar do Github\n",
        "%cd marquesgabi_fev_2020\n",
        "Transfere='Features_fev_2020.zip'"
      ],
      "execution_count": 2,
      "outputs": [
        {
          "output_type": "stream",
          "text": [
            "fatal: destination path 'marquesgabi_fev_2020' already exists and is not an empty directory.\n",
            "/content/marquesgabi_fev_2020\n"
          ],
          "name": "stdout"
        }
      ]
    },
    {
      "cell_type": "code",
      "metadata": {
        "id": "n3EWa3f7A-FE",
        "colab_type": "code",
        "colab": {}
      },
      "source": [
        "file_name = zipfile.ZipFile(Transfere, 'r')\n",
        "file_name.extractall()\n",
        "FILE=Transfere\n",
        "file_name=[]\n",
        "\n",
        "with zipfile.ZipFile(FILE, \"r\") as f:\n",
        "    for name in f.namelist():\n",
        "        file_name.append(name)"
      ],
      "execution_count": 0,
      "outputs": []
    },
    {
      "cell_type": "code",
      "metadata": {
        "id": "avVL_ZAd7ZLi",
        "colab_type": "code",
        "outputId": "cdaf80c1-1161-4025-c7e2-bf5e84ef473a",
        "colab": {
          "base_uri": "https://localhost:8080/",
          "height": 34
        }
      },
      "source": [
        "print(file_name)"
      ],
      "execution_count": 4,
      "outputs": [
        {
          "output_type": "stream",
          "text": [
            "['Transfere_Color_ANN_fev_2020.csv', 'Contraste_Buraco_jan_2020.csv', 'Contraste_Grao_jan_2020.csv', 'Contraste_Indef_jan_2020.csv']\n"
          ],
          "name": "stdout"
        }
      ]
    },
    {
      "cell_type": "code",
      "metadata": {
        "id": "lq0P1UxC3ZRC",
        "colab_type": "code",
        "colab": {}
      },
      "source": [
        "Nomes=['no.peaks','Media_proem','area under','Width_peaks','Width_peaks_max',\n",
        "       'Width_peaks_min','Median','Mode','Mean','Sd' ]"
      ],
      "execution_count": 0,
      "outputs": []
    },
    {
      "cell_type": "code",
      "metadata": {
        "id": "qKqzlX77P5-M",
        "colab_type": "code",
        "colab": {
          "base_uri": "https://localhost:8080/",
          "height": 263
        },
        "outputId": "3071c5ad-9a88-4b15-853f-b02665962d8c"
      },
      "source": [
        "df_cor= pd.read_csv(file_name[0]) # cor\n",
        "# print(df_b.head())\n",
        "df_cor=np.array(df_cor)\n",
        "df_cor= np.delete(df_cor, 0, axis=1) # delete first colunm\n",
        "Nomes_cor=['type','cor']\n",
        "df_cor=pd.DataFrame(df_cor,columns=Nomes_cor)\n",
        "print(df_cor)\n"
      ],
      "execution_count": 6,
      "outputs": [
        {
          "output_type": "stream",
          "text": [
            "       type     cor\n",
            "0    buraco    0.48\n",
            "1    buraco  0.4725\n",
            "2    buraco    0.39\n",
            "3    buraco   0.435\n",
            "4    buraco  0.3625\n",
            "..      ...     ...\n",
            "535   indef    0.53\n",
            "536   indef    0.44\n",
            "537   indef    0.51\n",
            "538   indef  0.5225\n",
            "539   indef  0.5325\n",
            "\n",
            "[540 rows x 2 columns]\n"
          ],
          "name": "stdout"
        }
      ]
    },
    {
      "cell_type": "code",
      "metadata": {
        "id": "LGfFmhskwv-8",
        "colab_type": "code",
        "colab": {
          "base_uri": "https://localhost:8080/",
          "height": 263
        },
        "outputId": "60aa012a-9152-46c0-f844-09c3dbad2e37"
      },
      "source": [
        "df_buraco= pd.read_csv(file_name[1]) # df_buraco\n",
        "df_grao= pd.read_csv(file_name[2]) # df_grao\n",
        "df_indef= pd.read_csv(file_name[3]) # df_indef\n",
        "frames = [df_buraco, df_grao, df_indef]\n",
        "df=pd.concat(frames)\n",
        "#df.columns=Nomes\n",
        "#df['cor']=df_cor['cor']\n",
        "print(df)"
      ],
      "execution_count": 8,
      "outputs": [
        {
          "output_type": "stream",
          "text": [
            "     Unnamed: 0            0            1  ...           14           15          16\n",
            "0             0    15.805556    59.854167  ...    22.236111   221.625000  263.694444\n",
            "1             1   334.513889   166.770833  ...   160.145833   162.298611  266.145833\n",
            "2             2    36.465278    73.875000  ...   169.034722   264.666667  309.222222\n",
            "3             3    77.875000   403.062500  ...    32.930556   123.861111  439.076389\n",
            "4             4    30.006944    13.534722  ...   343.784722   177.465278  235.729167\n",
            "..          ...          ...          ...  ...          ...          ...         ...\n",
            "175         175   632.069444   513.083333  ...   144.708333   129.006944  148.722222\n",
            "176         176  1858.451389  1918.118056  ...  2254.291667  1501.819444  774.548611\n",
            "177         177    57.263889    80.770833  ...    19.097222    23.743056   37.451389\n",
            "178         178    69.125000    89.659722  ...    11.131944    15.027778   16.284722\n",
            "179         179    68.451389    84.868056  ...    29.826389    23.097222   17.006944\n",
            "\n",
            "[540 rows x 18 columns]\n"
          ],
          "name": "stdout"
        }
      ]
    },
    {
      "cell_type": "code",
      "metadata": {
        "id": "LuyJQcmS9xc0",
        "colab_type": "code",
        "colab": {}
      },
      "source": [
        "Num=row_b  # linha do numero de fotos\n",
        "col=len(Nomes) # coluna do dataframe\n",
        "matriz_x_b=np.zeros((row_b,col))\n",
        "for i in range(Num):\n",
        "  x=df_b[i,:]\n",
        "  peaks, rr = find_peaks(x, height=0)\n",
        "\n",
        "  N_peaks=len(peaks)\n",
        "  prominences = peak_prominences(x, peaks)\n",
        "  Media_proem=np.mean(prominences)\n",
        "  Area = simps(x, dx=1)\n",
        "  Width_peaks =np.mean(peak_widths(x, peaks, rel_height=0.5))\n",
        "  Width_peaks_max =np.max(peak_widths(x, peaks, rel_height=0.5))\n",
        "  Width_peaks_min =np.min(peak_widths(x, peaks, rel_height=0.5))\n",
        "  Median = np.median(x)\n",
        "  Mode= stats.mode(x)[0]\n",
        "  Mean=np.mean(x)\n",
        "  Sd=np.std(x)\n",
        "\n",
        "  Features=[]\n",
        "  Features.append(N_peaks)\n",
        "  Features.append(Media_proem )\n",
        "  Features.append(Area)\n",
        "  Features.append(Width_peaks )\n",
        "  Features.append(Width_peaks_max)\n",
        "  Features.append(Width_peaks_min)\n",
        "  Features.append(Median )\n",
        "  Features.append(Mode[0])\n",
        "  Features.append(Mean)\n",
        "  Features.append(Sd)\n",
        "  Features=pd.DataFrame(Features,index=Nomes)\n",
        "  matriz_x_b[i,:]=np.array(Features.loc[:,0])"
      ],
      "execution_count": 0,
      "outputs": []
    },
    {
      "cell_type": "code",
      "metadata": {
        "id": "WowMS03-MDub",
        "colab_type": "code",
        "colab": {}
      },
      "source": [
        "df_g = pd.read_csv(file_name[1]) # second picture\n",
        "#print(df_g.head())\n",
        "df_g=np.array(df_g)\n",
        "df_g = np.delete(df_g, 0, axis=1) # delete first colunm\n"
      ],
      "execution_count": 0,
      "outputs": []
    },
    {
      "cell_type": "code",
      "metadata": {
        "id": "6hWTFQTU26aB",
        "colab_type": "code",
        "colab": {}
      },
      "source": [
        "row_g,col=df_g.shape"
      ],
      "execution_count": 0,
      "outputs": []
    },
    {
      "cell_type": "code",
      "metadata": {
        "id": "_YlN66Qx1w_X",
        "colab_type": "code",
        "colab": {}
      },
      "source": [
        "Num=row_g  # linha do numero de fotos\n",
        "col=len(Nomes) # coluna do dataframe\n",
        "matriz_x_g=np.zeros((row_g,col))\n",
        "for i in range(Num):\n",
        "  x=df_g[i,:]\n",
        "  peaks, rr = find_peaks(x, height=0)\n",
        "\n",
        "  N_peaks=len(peaks)\n",
        "  prominences = peak_prominences(x, peaks)\n",
        "  Media_proem=np.mean(prominences)\n",
        "  Area = simps(x, dx=1)\n",
        "  Width_peaks =np.mean(peak_widths(x, peaks, rel_height=0.5))\n",
        "  Width_peaks_max =np.max(peak_widths(x, peaks, rel_height=0.5))\n",
        "  Width_peaks_min =np.min(peak_widths(x, peaks, rel_height=0.5))\n",
        "  Median = np.median(x)\n",
        "  Mode= stats.mode(x)[0]\n",
        "  Mean=np.mean(x)\n",
        "  Sd=np.std(x)\n",
        "\n",
        "  Features=[]\n",
        "  Features.append(N_peaks)\n",
        "  Features.append(Media_proem )\n",
        "  Features.append(Area)\n",
        "  Features.append(Width_peaks )\n",
        "  Features.append(Width_peaks_max)\n",
        "  Features.append(Width_peaks_min)\n",
        "  Features.append(Median )\n",
        "  Features.append(Mode[0])\n",
        "  Features.append(Mean)\n",
        "  Features.append(Sd)\n",
        "  Features=pd.DataFrame(Features,index=Nomes)\n",
        "  matriz_x_g[i,:]=np.array(Features.loc[:,0])"
      ],
      "execution_count": 0,
      "outputs": []
    },
    {
      "cell_type": "code",
      "metadata": {
        "id": "EVoal9QcMgh2",
        "colab_type": "code",
        "colab": {}
      },
      "source": [
        "df_i = pd.read_csv(file_name[2]) # third picture\n",
        "#print(df_i.head())\n",
        "df_i=np.array(df_i)\n",
        "df_i = np.delete(df_i, 0, axis=1) # delete first colunm\n"
      ],
      "execution_count": 0,
      "outputs": []
    },
    {
      "cell_type": "code",
      "metadata": {
        "id": "4YtyyA9o2-sq",
        "colab_type": "code",
        "colab": {}
      },
      "source": [
        "row_i,col=df_i.shape"
      ],
      "execution_count": 0,
      "outputs": []
    },
    {
      "cell_type": "code",
      "metadata": {
        "id": "eLhvsIQ119LU",
        "colab_type": "code",
        "colab": {}
      },
      "source": [
        "Num=row_i  # linha do numero de fotos\n",
        "col=len(Nomes) # coluna do dataframe\n",
        "matriz_x_i=np.zeros((row_i,col))\n",
        "for i in range(Num):\n",
        "  x=df_i[i,:]\n",
        "  peaks, rr = find_peaks(x, height=0)\n",
        "\n",
        "  N_peaks=len(peaks)\n",
        "  prominences = peak_prominences(x, peaks)\n",
        "  Media_proem=np.mean(prominences)\n",
        "  Area = simps(x, dx=1)\n",
        "  Width_peaks =np.mean(peak_widths(x, peaks, rel_height=0.5))\n",
        "  Width_peaks_max =np.max(peak_widths(x, peaks, rel_height=0.5))\n",
        "  Width_peaks_min =np.min(peak_widths(x, peaks, rel_height=0.5))\n",
        "  Median = np.median(x)\n",
        "  Mode= stats.mode(x)[0]\n",
        "  Mean=np.mean(x)\n",
        "  Sd=np.std(x)\n",
        "\n",
        "  Features=[]\n",
        "  Features.append(N_peaks)\n",
        "  Features.append(Media_proem )\n",
        "  Features.append(Area)\n",
        "  Features.append(Width_peaks )\n",
        "  Features.append(Width_peaks_max)\n",
        "  Features.append(Width_peaks_min)\n",
        "  Features.append(Median )\n",
        "  Features.append(Mode[0])\n",
        "  Features.append(Mean)\n",
        "  Features.append(Sd)\n",
        "  Features=pd.DataFrame(Features,index=Nomes)\n",
        "  matriz_x_i[i,:]=np.array(Features.loc[:,0])"
      ],
      "execution_count": 0,
      "outputs": []
    },
    {
      "cell_type": "code",
      "metadata": {
        "id": "nWTtaP0CBMU3",
        "colab_type": "code",
        "colab": {}
      },
      "source": [
        "Nomes=['no.peaks','Media_proem','area under','Width_peaks','Width_peaks_max',\n",
        "       'Width_peaks_min','Median','Mode','Mean','Sd' ]"
      ],
      "execution_count": 0,
      "outputs": []
    },
    {
      "cell_type": "code",
      "metadata": {
        "id": "5MooYYWXNQH4",
        "colab_type": "code",
        "colab": {}
      },
      "source": [
        "#print(matriz_x)"
      ],
      "execution_count": 0,
      "outputs": []
    },
    {
      "cell_type": "code",
      "metadata": {
        "id": "SvqwCW3gCv5z",
        "colab_type": "code",
        "colab": {}
      },
      "source": [
        "df_buraco=pd.DataFrame(matriz_x_b,columns=Nomes)\n",
        "# print(df_buraco)"
      ],
      "execution_count": 0,
      "outputs": []
    },
    {
      "cell_type": "code",
      "metadata": {
        "id": "bwCAQw8EDOjl",
        "colab_type": "code",
        "colab": {}
      },
      "source": [
        "df_buraco.insert(0, \"Type\", \"buraco\") \n",
        "print(df_buraco.head())"
      ],
      "execution_count": 0,
      "outputs": []
    },
    {
      "cell_type": "code",
      "metadata": {
        "id": "Bv_cmBTAJQxV",
        "colab_type": "code",
        "colab": {}
      },
      "source": [
        "df_grao=pd.DataFrame(matriz_x_g,columns=Nomes)\n",
        "# print(df_grao)"
      ],
      "execution_count": 0,
      "outputs": []
    },
    {
      "cell_type": "code",
      "metadata": {
        "id": "agoa9fKTE93Z",
        "colab_type": "code",
        "colab": {}
      },
      "source": [
        "df_grao.insert(0, \"Type\", \"grao\") \n",
        "print(df_grao.head())"
      ],
      "execution_count": 0,
      "outputs": []
    },
    {
      "cell_type": "code",
      "metadata": {
        "id": "WMdBjiG32b5S",
        "colab_type": "code",
        "colab": {}
      },
      "source": [
        "df_indef=pd.DataFrame(matriz_x_i,columns=Nomes)\n",
        "# print(df_indef)"
      ],
      "execution_count": 0,
      "outputs": []
    },
    {
      "cell_type": "code",
      "metadata": {
        "id": "Dl2WZw8lE_Tz",
        "colab_type": "code",
        "colab": {}
      },
      "source": [
        "df_indef.insert(0, \"Type\", \"indef\") \n",
        "print(df_indef.head())"
      ],
      "execution_count": 0,
      "outputs": []
    },
    {
      "cell_type": "code",
      "metadata": {
        "id": "RjpSvcv5GMER",
        "colab_type": "code",
        "colab": {}
      },
      "source": [
        "frames = [df_buraco, df_grao, df_indef]\n",
        "df=pd.concat(frames)"
      ],
      "execution_count": 0,
      "outputs": []
    },
    {
      "cell_type": "code",
      "metadata": {
        "id": "0rfVvvJmHIbF",
        "colab_type": "code",
        "colab": {}
      },
      "source": [
        "print(df.shape)"
      ],
      "execution_count": 0,
      "outputs": []
    },
    {
      "cell_type": "code",
      "metadata": {
        "id": "j-Agc0NZHyjt",
        "colab_type": "code",
        "colab": {}
      },
      "source": [
        "print(df.iloc[30:50,:])"
      ],
      "execution_count": 0,
      "outputs": []
    },
    {
      "cell_type": "code",
      "metadata": {
        "id": "eB79lAWKcknQ",
        "colab_type": "code",
        "colab": {}
      },
      "source": [
        "\n",
        "# found drive\n",
        "from google.colab import drive\n",
        "drive.mount('drive')"
      ],
      "execution_count": 0,
      "outputs": []
    },
    {
      "cell_type": "code",
      "metadata": {
        "id": "f581bIdFclu-",
        "colab_type": "code",
        "colab": {}
      },
      "source": [
        "# get csv file\n",
        "df.to_csv('Fotos_Treina_ANN_dez_2019.csv')"
      ],
      "execution_count": 0,
      "outputs": []
    },
    {
      "cell_type": "code",
      "metadata": {
        "id": "paRPosRnc8s7",
        "colab_type": "code",
        "colab": {}
      },
      "source": [
        "# save in drive\n",
        "!cp Fotos_Treina_ANN_dez_2019.csv drive/My\\ Drive/Maria_Gabriela_Textura_dados_dez_2019/"
      ],
      "execution_count": 0,
      "outputs": []
    }
  ]
}