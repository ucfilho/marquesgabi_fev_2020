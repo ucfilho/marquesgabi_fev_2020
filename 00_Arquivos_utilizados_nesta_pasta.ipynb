{
  "nbformat": 4,
  "nbformat_minor": 0,
  "metadata": {
    "colab": {
      "name": "00_Arquivos utilizados nesta pasta.ipynb",
      "provenance": [],
      "authorship_tag": "ABX9TyMgvtrl5Pp9QOcPrQ3MagBa",
      "include_colab_link": true
    },
    "kernelspec": {
      "name": "python3",
      "display_name": "Python 3"
    }
  },
  "cells": [
    {
      "cell_type": "markdown",
      "metadata": {
        "id": "view-in-github",
        "colab_type": "text"
      },
      "source": [
        "<a href=\"https://colab.research.google.com/github/ucfilho/marquesgabi_fev_2020/blob/master/00_Arquivos_utilizados_nesta_pasta.ipynb\" target=\"_parent\"><img src=\"https://colab.research.google.com/assets/colab-badge.svg\" alt=\"Open In Colab\"/></a>"
      ]
    },
    {
      "cell_type": "code",
      "metadata": {
        "id": "sKngSnW8KWvi",
        "colab_type": "code",
        "colab": {}
      },
      "source": [
        "# 01_Features_Mahotas_Completo_fev_11_2020.ipynb\n",
        "#  neste arquivo a media das 13 propriedades de cada foto e armazenda e sao \n",
        "#  gerados 3 arquivos csv (um para buraco, grao e indefinido)\n",
        "\n",
        "\n",
        "# 02_Mahotas_fracionado_fev_14_2020.ipynb\n",
        "#   neste arquivo os picos, largura de picos,.... para cada foto e sao \n",
        "#   gerados 3 arquivos csv (um para buraco, grao e indefinido)\n",
        "\n",
        "\n",
        "# 03_Features_Completo_fev_14_2020.ipynb\n",
        "#   neste codigo as 17 variaveis estao juntas e calculadas para cada foto\n"
      ],
      "execution_count": 0,
      "outputs": []
    }
  ]
}