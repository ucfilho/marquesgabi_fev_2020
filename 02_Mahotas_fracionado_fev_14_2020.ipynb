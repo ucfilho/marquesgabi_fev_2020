{
  "nbformat": 4,
  "nbformat_minor": 0,
  "metadata": {
    "colab": {
      "name": "02_Mahotas_fracionado_fev_14_2020.ipynb",
      "provenance": [],
      "collapsed_sections": [],
      "include_colab_link": true
    },
    "kernelspec": {
      "name": "python3",
      "display_name": "Python 3"
    },
    "accelerator": "GPU"
  },
  "cells": [
    {
      "cell_type": "markdown",
      "metadata": {
        "id": "view-in-github",
        "colab_type": "text"
      },
      "source": [
        "<a href=\"https://colab.research.google.com/github/ucfilho/marquesgabi_fev_2020/blob/master/02_Mahotas_fracionado_fev_14_2020.ipynb\" target=\"_parent\"><img src=\"https://colab.research.google.com/assets/colab-badge.svg\" alt=\"Open In Colab\"/></a>"
      ]
    },
    {
      "cell_type": "code",
      "metadata": {
        "id": "f393Z8HdEmRg",
        "colab_type": "code",
        "outputId": "227efba3-6058-4245-bbc9-4eec6c89e7f5",
        "colab": {
          "base_uri": "https://localhost:8080/",
          "height": 53
        }
      },
      "source": [
        "!pip install mahotas"
      ],
      "execution_count": 0,
      "outputs": [
        {
          "output_type": "stream",
          "text": [
            "Requirement already satisfied: mahotas in /usr/local/lib/python3.6/dist-packages (1.4.9)\n",
            "Requirement already satisfied: numpy in /usr/local/lib/python3.6/dist-packages (from mahotas) (1.17.5)\n"
          ],
          "name": "stdout"
        }
      ]
    },
    {
      "cell_type": "code",
      "metadata": {
        "id": "8yb-DpxXF8Ht",
        "colab_type": "code",
        "colab": {}
      },
      "source": [
        "Escolha=['ASM', 'constrast', 'correl', 'variance', 'inv diff mom', 'sum aveg', \n",
        "         'sum var', 'sum entropy', 'entropy', 'dif var', 'dif entropy', \n",
        "         'IMC1', 'IMC2']\n",
        "Prop=Escolha[1] # Propriedade a escolher para ter picos, largura de pico, proeminencia,..."
      ],
      "execution_count": 0,
      "outputs": []
    },
    {
      "cell_type": "code",
      "metadata": {
        "id": "W0wfLMP8nWAM",
        "colab_type": "code",
        "outputId": "f22686a8-90cd-4a3d-cbad-978493879b5b",
        "colab": {
          "base_uri": "https://localhost:8080/",
          "height": 53
        }
      },
      "source": [
        "!git clone https://github.com/ucfilho/marquesgabi_fev_2020 #clonar do Github\n",
        "%cd marquesgabi_fev_2020"
      ],
      "execution_count": 0,
      "outputs": [
        {
          "output_type": "stream",
          "text": [
            "fatal: destination path 'marquesgabi_fev_2020' already exists and is not an empty directory.\n",
            "/content/marquesgabi_fev_2020\n"
          ],
          "name": "stdout"
        }
      ]
    },
    {
      "cell_type": "code",
      "metadata": {
        "id": "SzWdrvAgvBId",
        "colab_type": "code",
        "colab": {}
      },
      "source": [
        "import numpy as np\n",
        "import cv2\n",
        "from skimage import data\n",
        "import matplotlib.pyplot as plt\n",
        "import matplotlib\n",
        "import pandas as pd\n",
        "from skimage import io, util\n",
        "import mahotas.features.texture as mht\n",
        "import mahotas.features\n",
        "import os \n",
        "import zipfile\n",
        "from skimage import filters\n",
        "from skimage import exposure\n",
        "import skimage.feature as sk\n",
        "from google.colab import files\n",
        "from numpy import linalg as LA\n",
        "from scipy.signal import find_peaks\n",
        "from scipy.signal import peak_prominences\n",
        "from scipy.signal import peak_widths\n",
        "import re\n",
        "import Go2BlackWhite\n",
        "import Go2Mahotas\n",
        "%matplotlib inline"
      ],
      "execution_count": 0,
      "outputs": []
    },
    {
      "cell_type": "code",
      "metadata": {
        "id": "xoW1HoWp3qNO",
        "colab_type": "code",
        "colab": {}
      },
      "source": [
        "Size=20 # tamanho da foto\n",
        "Sub_Size=int(Size/5) # tamanho do fracionamento\n",
        "Row_Crop=1/2 # posicao do corte\n",
        "Crop=int(Size*Row_Crop)"
      ],
      "execution_count": 0,
      "outputs": []
    },
    {
      "cell_type": "code",
      "metadata": {
        "id": "c43TnWalRs_H",
        "colab_type": "code",
        "colab": {}
      },
      "source": [
        "Transfere='Fotos9Amostras.zip'\n",
        "file_name = zipfile.ZipFile(Transfere, 'r')\n",
        "file_name.extractall()"
      ],
      "execution_count": 0,
      "outputs": []
    },
    {
      "cell_type": "code",
      "metadata": {
        "id": "rDUgTX8BMOoD",
        "colab_type": "code",
        "outputId": "0126551e-38a7-4423-8438-e63265ea086b",
        "colab": {
          "base_uri": "https://localhost:8080/",
          "height": 73
        }
      },
      "source": [
        "NumFotos=len(img_name)\n"
      ],
      "execution_count": 0,
      "outputs": [
        {
          "output_type": "stream",
          "text": [
            "['Q6-1-4-B1.jpg', 'Q6-1-4-B2.jpg', 'Q6-1-4-B3.jpg', 'Q6-1-4-B4.jpg', 'Q6-1-4-B5.jpg', 'Q6-1-4-B6.jpg', 'Q6-1-4-B7.jpg', 'Q6-1-4-B8.jpg', 'Q6-1-4-B9.jpg', 'Q6-1-4-B10.jpg', 'Q6-1-4-G1.jpg', 'Q6-1-4-G2.jpg', 'Q6-1-4-G3.jpg', 'Q6-1-4-G4.jpg', 'Q6-1-4-G5.jpg', 'Q6-1-4-G6.jpg', 'Q6-1-4-G7.jpg', 'Q6-1-4-G8.jpg', 'Q6-1-4-G9.jpg', 'Q6-1-4-G10.jpg', 'Q6-1-4-I1.jpg', 'Q6-1-4-I2.jpg', 'Q6-1-4-I3.jpg', 'Q6-1-4-I4.jpg', 'Q6-1-4-I5.jpg', 'Q6-1-4-I6.jpg', 'Q6-1-4-I7.jpg', 'Q6-1-4-I8.jpg', 'Q6-1-4-I9.jpg', 'Q6-1-4-I10.jpg', 'Q6-1-5-B1.jpg', 'Q6-1-5-B2.jpg', 'Q6-1-5-B3.jpg', 'Q6-1-5-B4.jpg', 'Q6-1-5-B5.jpg', 'Q6-1-5-B6.jpg', 'Q6-1-5-B7.jpg', 'Q6-1-5-B8.jpg', 'Q6-1-5-B9.jpg', 'Q6-1-5-B10.jpg', 'Q6-1-5-G1.jpg', 'Q6-1-5-G2.jpg', 'Q6-1-5-G3.jpg', 'Q6-1-5-G4.jpg', 'Q6-1-5-G5.jpg', 'Q6-1-5-G6.jpg', 'Q6-1-5-G7.jpg', 'Q6-1-5-G8.jpg', 'Q6-1-5-G9.jpg', 'Q6-1-5-G10.jpg', 'Q6-1-5-I1.jpg', 'Q6-1-5-I2.jpg', 'Q6-1-5-I3.jpg', 'Q6-1-5-I4.jpg', 'Q6-1-5-I5.jpg', 'Q6-1-5-I6.jpg', 'Q6-1-5-I7.jpg', 'Q6-1-5-I8.jpg', 'Q6-1-5-I9.jpg', 'Q6-1-5-I10.jpg', 'Q6-2-1-B1.jpg', 'Q6-2-1-B2.jpg', 'Q6-2-1-B3.jpg', 'Q6-2-1-B4.jpg', 'Q6-2-1-B5.jpg', 'Q6-2-1-B6.jpg', 'Q6-2-1-B7.jpg', 'Q6-2-1-B8.jpg', 'Q6-2-1-B9.jpg', 'Q6-2-1-B10.jpg', 'Q6-2-1-G1.jpg', 'Q6-2-1-G2.jpg', 'Q6-2-1-G3.jpg', 'Q6-2-1-G4.jpg', 'Q6-2-1-G5.jpg', 'Q6-2-1-G6.jpg', 'Q6-2-1-G7.jpg', 'Q6-2-1-G8.jpg', 'Q6-2-1-G9.jpg', 'Q6-2-1-G10.jpg', 'Q6-2-1-I1.jpg', 'Q6-2-1-I2.jpg', 'Q6-2-1-I3.jpg', 'Q6-2-1-I4.jpg', 'Q6-2-1-I5.jpg', 'Q6-2-1-I6.jpg', 'Q6-2-1-I7.jpg', 'Q6-2-1-I8.jpg', 'Q6-2-1-I9.jpg', 'Q6-2-1-I10.jpg', 'Q6-2-2-B1.jpg', 'Q6-2-2-B2.jpg', 'Q6-2-2-B3.jpg', 'Q6-2-2-B4.jpg', 'Q6-2-2-B5.jpg', 'Q6-2-2-B6.jpg', 'Q6-2-2-B7.jpg', 'Q6-2-2-B8.jpg', 'Q6-2-2-B9.jpg', 'Q6-2-2-B10.jpg', 'Q6-2-2-G1.jpg', 'Q6-2-2-G2.jpg', 'Q6-2-2-G3.jpg', 'Q6-2-2-G4.jpg', 'Q6-2-2-G5.jpg', 'Q6-2-2-G6.jpg', 'Q6-2-2-G7.jpg', 'Q6-2-2-G8.jpg', 'Q6-2-2-G9.jpg', 'Q6-2-2-G10.jpg', 'Q6-2-2-I1.jpg', 'Q6-2-2-I2.jpg', 'Q6-2-2-I3.jpg', 'Q6-2-2-I4.jpg', 'Q6-2-2-I5.jpg', 'Q6-2-2-I6.jpg', 'Q6-2-2-I7.jpg', 'Q6-2-2-I8.jpg', 'Q6-2-2-I9.jpg', 'Q6-2-2-I10.jpg', 'Q6-3-1-B1.jpg', 'Q6-3-1-B2.jpg', 'Q6-3-1-B3.jpg', 'Q6-3-1-B4.jpg', 'Q6-3-1-B5.jpg', 'Q6-3-1-B6.jpg', 'Q6-3-1-B7.jpg', 'Q6-3-1-B8.jpg', 'Q6-3-1-B9.jpg', 'Q6-3-1-B10.jpg', 'Q6-3-1-G1.jpg', 'Q6-3-1-G2.jpg', 'Q6-3-1-G3.jpg', 'Q6-3-1-G4.jpg', 'Q6-3-1-G5.jpg', 'Q6-3-1-G6.jpg', 'Q6-3-1-G7.jpg', 'Q6-3-1-G8.jpg', 'Q6-3-1-G9.jpg', 'Q6-3-1-G10.jpg', 'Q6-3-1-I1.jpg', 'Q6-3-1-I2.jpg', 'Q6-3-1-I3.jpg', 'Q6-3-1-I4.jpg', 'Q6-3-1-I5.jpg', 'Q6-3-1-I6.jpg', 'Q6-3-1-I7.jpg', 'Q6-3-1-I8.jpg', 'Q6-3-1-I9.jpg', 'Q6-3-1-I10.jpg', 'Q6-3-2-B1.jpg', 'Q6-3-2-B2.jpg', 'Q6-3-2-B3.jpg', 'Q6-3-2-B4.jpg', 'Q6-3-2-B5.jpg', 'Q6-3-2-B6.jpg', 'Q6-3-2-B7.jpg', 'Q6-3-2-B8.jpg', 'Q6-3-2-B9.jpg', 'Q6-3-2-B10.jpg', 'Q6-3-2-G1.jpg', 'Q6-3-2-G2.jpg', 'Q6-3-2-G3.jpg', 'Q6-3-2-G4.jpg', 'Q6-3-2-G5.jpg', 'Q6-3-2-G6.jpg', 'Q6-3-2-G7.jpg', 'Q6-3-2-G8.jpg', 'Q6-3-2-G9.jpg', 'Q6-3-2-G10.jpg', 'Q6-3-2-I1.jpg', 'Q6-3-2-I2.jpg', 'Q6-3-2-I3.jpg', 'Q6-3-2-I4.jpg', 'Q6-3-2-I5.jpg', 'Q6-3-2-I6.jpg', 'Q6-3-2-I7.jpg', 'Q6-3-2-I8.jpg', 'Q6-3-2-I9.jpg', 'Q6-3-2-I10.jpg', 'Q6-4-1-B1.jpg', 'Q6-4-1-B2.jpg', 'Q6-4-1-B3.jpg', 'Q6-4-1-B4.jpg', 'Q6-4-1-B5.jpg', 'Q6-4-1-B6.jpg', 'Q6-4-1-B7.jpg', 'Q6-4-1-B8.jpg', 'Q6-4-1-B9.jpg', 'Q6-4-1-B10.jpg', 'Q6-4-1-G1.jpg', 'Q6-4-1-G2.jpg', 'Q6-4-1-G3.jpg', 'Q6-4-1-G4.jpg', 'Q6-4-1-G5.jpg', 'Q6-4-1-G6.jpg', 'Q6-4-1-G7.jpg', 'Q6-4-1-G8.jpg', 'Q6-4-1-G9.jpg', 'Q6-4-1-G10.jpg', 'Q6-4-1-I1.jpg', 'Q6-4-1-I2.jpg', 'Q6-4-1-I3.jpg', 'Q6-4-1-I4.jpg', 'Q6-4-1-I5.jpg', 'Q6-4-1-I6.jpg', 'Q6-4-1-I7.jpg', 'Q6-4-1-I8.jpg', 'Q6-4-1-I9.jpg', 'Q6-4-1-I10.jpg', 'Q6-4-3-B1.jpg', 'Q6-4-3-B2.jpg', 'Q6-4-3-B3.jpg', 'Q6-4-3-B4.jpg', 'Q6-4-3-B5.jpg', 'Q6-4-3-B6.jpg', 'Q6-4-3-B7.jpg', 'Q6-4-3-B8.jpg', 'Q6-4-3-B9.jpg', 'Q6-4-3-B10.jpg', 'Q6-4-3-G1.jpg', 'Q6-4-3-G2.jpg', 'Q6-4-3-G3.jpg', 'Q6-4-3-G4.jpg', 'Q6-4-3-G5.jpg', 'Q6-4-3-G6.jpg', 'Q6-4-3-G7.jpg', 'Q6-4-3-G8.jpg', 'Q6-4-3-G9.jpg', 'Q6-4-3-G10.jpg', 'Q6-4-3-I1.jpg', 'Q6-4-3-I2.jpg', 'Q6-4-3-I3.jpg', 'Q6-4-3-I4.jpg', 'Q6-4-3-I5.jpg', 'Q6-4-3-I6.jpg', 'Q6-4-3-I7.jpg', 'Q6-4-3-I8.jpg', 'Q6-4-3-I9.jpg', 'Q6-4-3-I10.jpg', 'Q6-5-2-B1.jpg', 'Q6-5-2-B2.jpg', 'Q6-5-2-B3.jpg', 'Q6-5-2-B4.jpg', 'Q6-5-2-B5.jpg', 'Q6-5-2-B6.jpg', 'Q6-5-2-B7.jpg', 'Q6-5-2-B8.jpg', 'Q6-5-2-B9.jpg', 'Q6-5-2-B10.jpg', 'Q6-5-2-G1.jpg', 'Q6-5-2-G2.jpg', 'Q6-5-2-G3.jpg', 'Q6-5-2-G4.jpg', 'Q6-5-2-G5.jpg', 'Q6-5-2-G6.jpg', 'Q6-5-2-G7.jpg', 'Q6-5-2-G8.jpg', 'Q6-5-2-G9.jpg', 'Q6-5-2-G10.jpg', 'Q6-5-2-I1.jpg', 'Q6-5-2-I2.jpg', 'Q6-5-2-I3.jpg', 'Q6-5-2-I4.jpg', 'Q6-5-2-I5.jpg', 'Q6-5-2-I6.jpg', 'Q6-5-2-I7.jpg', 'Q6-5-2-I8.jpg', 'Q6-5-2-I9.jpg', 'Q6-5-2-I10.jpg', 'Q6-5-4-B1.jpg', 'Q6-5-4-B2.jpg', 'Q6-5-4-B3.jpg', 'Q6-5-4-B4.jpg', 'Q6-5-4-B5.jpg', 'Q6-5-4-B6.jpg', 'Q6-5-4-B7.jpg', 'Q6-5-4-B8.jpg', 'Q6-5-4-B9.jpg', 'Q6-5-4-B10.jpg', 'Q6-5-4-G1.jpg', 'Q6-5-4-G2.jpg', 'Q6-5-4-G3.jpg', 'Q6-5-4-G4.jpg', 'Q6-5-4-G5.jpg', 'Q6-5-4-G6.jpg', 'Q6-5-4-G7.jpg', 'Q6-5-4-G8.jpg', 'Q6-5-4-G9.jpg', 'Q6-5-4-G10.jpg', 'Q6-5-4-I1.jpg', 'Q6-5-4-I2.jpg', 'Q6-5-4-I3.jpg', 'Q6-5-4-I4.jpg', 'Q6-5-4-I5.jpg', 'Q6-5-4-I6.jpg', 'Q6-5-4-I7.jpg', 'Q6-5-4-I8.jpg', 'Q6-5-4-I9.jpg', 'Q6-5-4-I10.jpg', 'Q6-6-2-B1.jpg', 'Q6-6-2-B2.jpg', 'Q6-6-2-B3.jpg', 'Q6-6-2-B4.jpg', 'Q6-6-2-B5.jpg', 'Q6-6-2-B6.jpg', 'Q6-6-2-B7.jpg', 'Q6-6-2-B8.jpg', 'Q6-6-2-B9.jpg', 'Q6-6-2-B10.jpg', 'Q6-6-2-G1.jpg', 'Q6-6-2-G2.jpg', 'Q6-6-2-G3.jpg', 'Q6-6-2-G4.jpg', 'Q6-6-2-G5.jpg', 'Q6-6-2-G6.jpg', 'Q6-6-2-G7.jpg', 'Q6-6-2-G8.jpg', 'Q6-6-2-G9.jpg', 'Q6-6-2-G10.jpg', 'Q6-6-2-I1.jpg', 'Q6-6-2-I2.jpg', 'Q6-6-2-I3.jpg', 'Q6-6-2-I4.jpg', 'Q6-6-2-I5.jpg', 'Q6-6-2-I6.jpg', 'Q6-6-2-I7.jpg', 'Q6-6-2-I8.jpg', 'Q6-6-2-I9.jpg', 'Q6-6-2-I10.jpg', 'Q6-6-3-B1.jpg', 'Q6-6-3-B2.jpg', 'Q6-6-3-B3.jpg', 'Q6-6-3-B4.jpg', 'Q6-6-3-B5.jpg', 'Q6-6-3-B6.jpg', 'Q6-6-3-B7.jpg', 'Q6-6-3-B8.jpg', 'Q6-6-3-B9.jpg', 'Q6-6-3-B10.jpg', 'Q6-6-3-G1.jpg', 'Q6-6-3-G2.jpg', 'Q6-6-3-G3.jpg', 'Q6-6-3-G4.jpg', 'Q6-6-3-G5.jpg', 'Q6-6-3-G6.jpg', 'Q6-6-3-G7.jpg', 'Q6-6-3-G8.jpg', 'Q6-6-3-G9.jpg', 'Q6-6-3-G10.jpg', 'Q6-6-3-I1.jpg', 'Q6-6-3-I2.jpg', 'Q6-6-3-I3.jpg', 'Q6-6-3-I4.jpg', 'Q6-6-3-I5.jpg', 'Q6-6-3-I6.jpg', 'Q6-6-3-I7.jpg', 'Q6-6-3-I8.jpg', 'Q6-6-3-I9.jpg', 'Q6-6-3-I10.jpg', 'Q6-7-3-B1.jpg', 'Q6-7-3-B2.jpg', 'Q6-7-3-B3.jpg', 'Q6-7-3-B4.jpg', 'Q6-7-3-B5.jpg', 'Q6-7-3-B6.jpg', 'Q6-7-3-B7.jpg', 'Q6-7-3-B8.jpg', 'Q6-7-3-B9.jpg', 'Q6-7-3-B10.jpg', 'Q6-7-3-G1.jpg', 'Q6-7-3-G2.jpg', 'Q6-7-3-G3.jpg', 'Q6-7-3-G4.jpg', 'Q6-7-3-G5.jpg', 'Q6-7-3-G6.jpg', 'Q6-7-3-G7.jpg', 'Q6-7-3-G8.jpg', 'Q6-7-3-G9.jpg', 'Q6-7-3-G10.jpg', 'Q6-7-3-I1.jpg', 'Q6-7-3-I2.jpg', 'Q6-7-3-I3.jpg', 'Q6-7-3-I4.jpg', 'Q6-7-3-I5.jpg', 'Q6-7-3-I6.jpg', 'Q6-7-3-I7.jpg', 'Q6-7-3-I8.jpg', 'Q6-7-3-I9.jpg', 'Q6-7-3-I10.jpg', 'Q6-7-4-B1.jpg', 'Q6-7-4-B2.jpg', 'Q6-7-4-B3.jpg', 'Q6-7-4-B4.jpg', 'Q6-7-4-B5.jpg', 'Q6-7-4-B6.jpg', 'Q6-7-4-B7.jpg', 'Q6-7-4-B8.jpg', 'Q6-7-4-B9.jpg', 'Q6-7-4-B10.jpg', 'Q6-7-4-G1.jpg', 'Q6-7-4-G2.jpg', 'Q6-7-4-G3.jpg', 'Q6-7-4-G4.jpg', 'Q6-7-4-G5.jpg', 'Q6-7-4-G6.jpg', 'Q6-7-4-G7.jpg', 'Q6-7-4-G8.jpg', 'Q6-7-4-G9.jpg', 'Q6-7-4-G10.jpg', 'Q6-7-4-I1.jpg', 'Q6-7-4-I2.jpg', 'Q6-7-4-I3.jpg', 'Q6-7-4-I4.jpg', 'Q6-7-4-I5.jpg', 'Q6-7-4-I6.jpg', 'Q6-7-4-I7.jpg', 'Q6-7-4-I8.jpg', 'Q6-7-4-I9.jpg', 'Q6-7-4-I10.jpg', 'Q6-8-2-B1.jpg', 'Q6-8-2-B2.jpg', 'Q6-8-2-B3.jpg', 'Q6-8-2-B4.jpg', 'Q6-8-2-B5.jpg', 'Q6-8-2-B6.jpg', 'Q6-8-2-B7.jpg', 'Q6-8-2-B8.jpg', 'Q6-8-2-B9.jpg', 'Q6-8-2-B10.jpg', 'Q6-8-2-G1.jpg', 'Q6-8-2-G2.jpg', 'Q6-8-2-G3.jpg', 'Q6-8-2-G4.jpg', 'Q6-8-2-G5.jpg', 'Q6-8-2-G6.jpg', 'Q6-8-2-G7.jpg', 'Q6-8-2-G8.jpg', 'Q6-8-2-G9.jpg', 'Q6-8-2-G10.jpg', 'Q6-8-2-I1.jpg', 'Q6-8-2-I2.jpg', 'Q6-8-2-I3.jpg', 'Q6-8-2-I4.jpg', 'Q6-8-2-I5.jpg', 'Q6-8-2-I6.jpg', 'Q6-8-2-I7.jpg', 'Q6-8-2-I8.jpg', 'Q6-8-2-I9.jpg', 'Q6-8-2-I10.jpg', 'Q6-8-3-B1.jpg', 'Q6-8-3-B2.jpg', 'Q6-8-3-B3.jpg', 'Q6-8-3-B4.jpg', 'Q6-8-3-B5.jpg', 'Q6-8-3-B6.jpg', 'Q6-8-3-B7.jpg', 'Q6-8-3-B8.jpg', 'Q6-8-3-B9.jpg', 'Q6-8-3-B10.jpg', 'Q6-8-3-G1.jpg', 'Q6-8-3-G2.jpg', 'Q6-8-3-G3.jpg', 'Q6-8-3-G4.jpg', 'Q6-8-3-G5.jpg', 'Q6-8-3-G6.jpg', 'Q6-8-3-G7.jpg', 'Q6-8-3-G8.jpg', 'Q6-8-3-G9.jpg', 'Q6-8-3-G10.jpg', 'Q6-8-3-I1.jpg', 'Q6-8-3-I2.jpg', 'Q6-8-3-I3.jpg', 'Q6-8-3-I4.jpg', 'Q6-8-3-I5.jpg', 'Q6-8-3-I6.jpg', 'Q6-8-3-I7.jpg', 'Q6-8-3-I8.jpg', 'Q6-8-3-I9.jpg', 'Q6-8-3-I10.jpg', 'Q6-9-3-B1.jpg', 'Q6-9-3-B2.jpg', 'Q6-9-3-B3.jpg', 'Q6-9-3-B4.jpg', 'Q6-9-3-B5.jpg', 'Q6-9-3-B6.jpg', 'Q6-9-3-B7.jpg', 'Q6-9-3-B8.jpg', 'Q6-9-3-B9.jpg', 'Q6-9-3-B10.jpg', 'Q6-9-3-G1.jpg', 'Q6-9-3-G2.jpg', 'Q6-9-3-G3.jpg', 'Q6-9-3-G4.jpg', 'Q6-9-3-G5.jpg', 'Q6-9-3-G6.jpg', 'Q6-9-3-G7.jpg', 'Q6-9-3-G8.jpg', 'Q6-9-3-G9.jpg', 'Q6-9-3-G10.jpg', 'Q6-9-3-I1.jpg', 'Q6-9-3-I2.jpg', 'Q6-9-3-I3.jpg', 'Q6-9-3-I4.jpg', 'Q6-9-3-I5.jpg', 'Q6-9-3-I6.jpg', 'Q6-9-3-I7.jpg', 'Q6-9-3-I8.jpg', 'Q6-9-3-I9.jpg', 'Q6-9-3-I10.jpg', 'Q6-9-5-B1.jpg', 'Q6-9-5-B2.jpg', 'Q6-9-5-B3.jpg', 'Q6-9-5-B4.jpg', 'Q6-9-5-B5.jpg', 'Q6-9-5-B6.jpg', 'Q6-9-5-B7.jpg', 'Q6-9-5-B8.jpg', 'Q6-9-5-B9.jpg', 'Q6-9-5-B10.jpg', 'Q6-9-5-G1.jpg', 'Q6-9-5-G2.jpg', 'Q6-9-5-G3.jpg', 'Q6-9-5-G4.jpg', 'Q6-9-5-G5.jpg', 'Q6-9-5-G6.jpg', 'Q6-9-5-G7.jpg', 'Q6-9-5-G8.jpg', 'Q6-9-5-G9.jpg', 'Q6-9-5-G10.jpg', 'Q6-9-5-I1.jpg', 'Q6-9-5-I2.jpg', 'Q6-9-5-I3.jpg', 'Q6-9-5-I4.jpg', 'Q6-9-5-I5.jpg', 'Q6-9-5-I6.jpg', 'Q6-9-5-I7.jpg', 'Q6-9-5-I8.jpg', 'Q6-9-5-I9.jpg', 'Q6-9-5-I10.jpg']\n",
            "540\n"
          ],
          "name": "stdout"
        }
      ]
    },
    {
      "cell_type": "code",
      "metadata": {
        "id": "GrLtSCRor_By",
        "colab_type": "code",
        "outputId": "4d7a1461-ae29-499c-dba5-b925146eb359",
        "colab": {
          "base_uri": "https://localhost:8080/",
          "height": 266
        }
      },
      "source": [
        "ww,img_name=Go2BlackWhite.BlackWhite(Transfere,Size)\n",
        "plt.axis(\"off\")\n",
        "plt.imshow(ww[539], cmap = \"gray\")"
      ],
      "execution_count": 0,
      "outputs": [
        {
          "output_type": "execute_result",
          "data": {
            "text/plain": [
              "<matplotlib.image.AxesImage at 0x7f946aa31908>"
            ]
          },
          "metadata": {
            "tags": []
          },
          "execution_count": 6
        },
        {
          "output_type": "display_data",
          "data": {
            "image/png": "[encoded data removed]",
            "text/plain": [
              "<Figure size 432x288 with 1 Axes>"
            ]
          },
          "metadata": {
            "tags": []
          }
        }
      ]
    },
    {
      "cell_type": "code",
      "metadata": {
        "id": "pMJdA-nxIpQO",
        "colab_type": "code",
        "outputId": "4f13a3e6-9215-4b53-b05e-a1c8f321557b",
        "colab": {
          "base_uri": "https://localhost:8080/",
          "height": 55
        }
      },
      "source": [
        "Num,Row,Col=np.asarray(ww).shape\n",
        "Idx=[]\n",
        "New_Colunm=[]\n",
        "\n",
        "for i in range(Num):\n",
        "  Media=np.mean(ww[i])\n",
        "  k=np.where(ww[i].ravel() > Media)\n",
        "  Idx.append(np.asarray(k).ravel())\n",
        "\n",
        "Quant=Size*Size\n",
        "for i in Idx:\n",
        "  #print(i)\n",
        "  New_Colunm.append(len(i)/Quant)\n",
        "print(New_Colunm)"
      ],
      "execution_count": 0,
      "outputs": [
        {
          "output_type": "stream",
          "text": [
            "[0.48, 0.4725, 0.39, 0.435, 0.3625, 0.3675, 0.4825, 0.475, 0.515, 0.4975, 0.5, 0.6275, 0.49, 0.5425, 0.4325, 0.4625, 0.4475, 0.6575, 0.5325, 0.4125, 0.5325, 0.39, 0.5175, 0.48, 0.5625, 0.4675, 0.44, 0.54, 0.465, 0.4975, 0.5575, 0.54, 0.46, 0.48, 0.4475, 0.455, 0.3275, 0.4325, 0.4025, 0.4575, 0.5, 0.46, 0.63, 0.4325, 0.505, 0.4425, 0.4425, 0.485, 0.5, 0.5125, 0.5575, 0.4875, 0.43, 0.5625, 0.4475, 0.4625, 0.395, 0.515, 0.4925, 0.4725, 0.4125, 0.41, 0.4225, 0.4825, 0.53, 0.49, 0.38, 0.405, 0.4125, 0.41, 0.53, 0.5775, 0.4675, 0.4675, 0.5, 0.51, 0.53, 0.485, 0.4775, 0.5275, 0.495, 0.5525, 0.48, 0.5275, 0.4325, 0.4575, 0.5475, 0.56, 0.535, 0.5, 0.51, 0.525, 0.44, 0.435, 0.5125, 0.39, 0.565, 0.5075, 0.485, 0.4825, 0.3775, 0.5275, 0.5475, 0.5325, 0.58, 0.4275, 0.41, 0.5175, 0.5225, 0.44, 0.4375, 0.395, 0.535, 0.555, 0.4825, 0.4325, 0.4625, 0.4525, 0.495, 0.4925, 0.3625, 0.375, 0.355, 0.4075, 0.405, 0.465, 0.4575, 0.4725, 0.4825, 0.4375, 0.585, 0.5325, 0.57, 0.4775, 0.4425, 0.4025, 0.45, 0.4625, 0.615, 0.5575, 0.4675, 0.4175, 0.45, 0.4525, 0.4625, 0.525, 0.4625, 0.525, 0.455, 0.3875, 0.33, 0.5625, 0.33, 0.3675, 0.41, 0.5, 0.53, 0.4875, 0.47, 0.54, 0.41, 0.5125, 0.4975, 0.5575, 0.405, 0.6125, 0.5575, 0.5075, 0.4025, 0.4875, 0.4825, 0.4575, 0.43, 0.39, 0.45, 0.41, 0.435, 0.505, 0.5325, 0.46, 0.5175, 0.48, 0.48, 0.5525, 0.3875, 0.4575, 0.3975, 0.3575, 0.4975, 0.4, 0.5125, 0.5225, 0.4425, 0.495, 0.5625, 0.48, 0.475, 0.4625, 0.485, 0.39, 0.5325, 0.535, 0.4575, 0.475, 0.5075, 0.4475, 0.4625, 0.4775, 0.5025, 0.4575, 0.465, 0.515, 0.5475, 0.54, 0.4675, 0.3825, 0.4725, 0.505, 0.51, 0.5475, 0.4675, 0.4825, 0.47, 0.44, 0.4675, 0.575, 0.4275, 0.4925, 0.4575, 0.43, 0.5325, 0.495, 0.445, 0.46, 0.545, 0.5425, 0.5975, 0.495, 0.46, 0.52, 0.4475, 0.505, 0.51, 0.5025, 0.4725, 0.465, 0.6425, 0.4275, 0.3775, 0.4475, 0.535, 0.4125, 0.5775, 0.4175, 0.3875, 0.4425, 0.505, 0.4475, 0.43, 0.4175, 0.4525, 0.4825, 0.5025, 0.475, 0.345, 0.3925, 0.4925, 0.4875, 0.43, 0.355, 0.41, 0.49, 0.56, 0.4225, 0.425, 0.405, 0.3525, 0.4675, 0.525, 0.5375, 0.4475, 0.5525, 0.485, 0.3825, 0.455, 0.4275, 0.5125, 0.47, 0.48, 0.3925, 0.485, 0.5925, 0.5175, 0.3375, 0.3225, 0.4025, 0.555, 0.4525, 0.36, 0.4425, 0.4125, 0.4775, 0.45, 0.435, 0.5, 0.4275, 0.43, 0.3825, 0.295, 0.5075, 0.6425, 0.515, 0.6, 0.5075, 0.5325, 0.465, 0.5275, 0.49, 0.6075, 0.405, 0.4675, 0.4625, 0.485, 0.465, 0.4525, 0.505, 0.4475, 0.525, 0.4675, 0.52, 0.565, 0.4575, 0.425, 0.3975, 0.5125, 0.5, 0.4, 0.3475, 0.385, 0.45, 0.495, 0.405, 0.4975, 0.52, 0.4975, 0.5225, 0.54, 0.4675, 0.3975, 0.4175, 0.5225, 0.5, 0.4775, 0.4925, 0.515, 0.495, 0.49, 0.5525, 0.46, 0.445, 0.3125, 0.33, 0.485, 0.39, 0.365, 0.43, 0.46, 0.5275, 0.5675, 0.47, 0.5825, 0.61, 0.625, 0.56, 0.5075, 0.3675, 0.485, 0.3825, 0.4975, 0.5175, 0.3225, 0.52, 0.545, 0.3375, 0.39, 0.5325, 0.5075, 0.5425, 0.53, 0.45, 0.4825, 0.6025, 0.53, 0.6025, 0.44, 0.4575, 0.3675, 0.4875, 0.395, 0.4825, 0.6175, 0.5025, 0.4825, 0.6225, 0.4525, 0.5125, 0.46, 0.5, 0.5775, 0.5225, 0.6125, 0.48, 0.515, 0.5325, 0.4825, 0.3875, 0.5475, 0.4875, 0.5425, 0.5, 0.3675, 0.3875, 0.445, 0.495, 0.465, 0.425, 0.4975, 0.525, 0.4025, 0.34, 0.515, 0.6175, 0.55, 0.63, 0.5375, 0.6425, 0.6075, 0.5625, 0.54, 0.55, 0.505, 0.52, 0.5975, 0.545, 0.5375, 0.4925, 0.545, 0.595, 0.615, 0.5925, 0.4575, 0.37, 0.575, 0.3925, 0.4575, 0.355, 0.34, 0.3125, 0.37, 0.4875, 0.5625, 0.6575, 0.67, 0.555, 0.5375, 0.585, 0.5725, 0.62, 0.48, 0.585, 0.545, 0.715, 0.49, 0.5, 0.5375, 0.535, 0.635, 0.5975, 0.525, 0.5175, 0.4875, 0.4875, 0.5375, 0.5375, 0.455, 0.5725, 0.405, 0.5375, 0.53, 0.3925, 0.5025, 0.5925, 0.57, 0.5775, 0.6525, 0.5775, 0.6425, 0.6375, 0.56, 0.6275, 0.5125, 0.5175, 0.405, 0.4575, 0.5, 0.4425, 0.55, 0.6175, 0.525, 0.5475, 0.36, 0.5, 0.57, 0.505, 0.5225, 0.4875, 0.4475, 0.57, 0.535, 0.385, 0.6175, 0.6125, 0.6375, 0.63, 0.4775, 0.495, 0.62, 0.5, 0.6075, 0.6, 0.565, 0.495, 0.5075, 0.4625, 0.5775, 0.53, 0.44, 0.51, 0.5225, 0.5325]\n"
          ],
          "name": "stdout"
        }
      ]
    },
    {
      "cell_type": "code",
      "metadata": {
        "id": "LKmJaSroR9XJ",
        "colab_type": "code",
        "outputId": "aeccbbf3-2a37-4396-8392-ceaae772c43e",
        "colab": {
          "base_uri": "https://localhost:8080/",
          "height": 35
        }
      },
      "source": [
        "print(len(New_Colunm))"
      ],
      "execution_count": 0,
      "outputs": [
        {
          "output_type": "stream",
          "text": [
            "540\n"
          ],
          "name": "stdout"
        }
      ]
    },
    {
      "cell_type": "code",
      "metadata": {
        "id": "MukX2r3ys3tm",
        "colab_type": "code",
        "colab": {}
      },
      "source": [
        "# Find the list elements starting with specific letter\n",
        "subs = 'B'\n",
        "Buraco = [x for x in img_name if re.search(subs, x)] \n",
        "subs = 'G'\n",
        "Grao = [x for x in img_name if re.search(subs, x)] \n",
        "subs = 'I'\n",
        "Indef = [x for x in img_name if re.search(subs, x)] "
      ],
      "execution_count": 0,
      "outputs": []
    },
    {
      "cell_type": "code",
      "metadata": {
        "id": "jEeQ6NiHRLJs",
        "colab_type": "code",
        "colab": {}
      },
      "source": [
        "#foto 0 (k=0)\n",
        "Size=800 # tamanho da foto\n",
        "Sub_Size=int(Size/5) # tamanho do fracionamento\n",
        "Row_Crop=1/2 # posicao do corte\n",
        "Crop=int(Size*Row_Crop)\n",
        "for k in range(NumFotos):\n",
        "  p_foto=ww[k,:].reshape(Size,Size)\n",
        "  GLCM=[]\n",
        "  glcm_haralick=[]\n",
        "  x_ref=[]\n",
        "  Count=Sub_Size\n",
        "  p=np.zeros((Sub_Size,Sub_Size))\n",
        "  j_ref=0\n",
        "  Cada_foto=[]\n",
        "  Posicao_X=[]\n",
        "  Posicao_Y=[]\n",
        "  for k in range(Size):\n",
        "    if((k+Sub_Size-1)<Size):\n",
        "      #print(\"(k+Sub_Size)=\",(k+Sub_Size),\"k=\",k)\n",
        "      for i in range(Sub_Size):\n",
        "        Posicao_X.append(Crop+i)\n",
        "        for j in range(Sub_Size):\n",
        "          p[i,j]=p_foto[Crop+i,j+k]\n",
        "          Posicao_Y.append(j+k)\n",
        "\n",
        "      WW=np.copy(p) \n",
        "      Cada_foto.append(WW.ravel())\n",
        "      x_ref.append(Count-Sub_Size)\n",
        "      Count=Count+1\n",
        "      \n",
        "      Mahotas =pd.DataFrame(mahotas.features.haralick(p.astype(int)), columns =Nomes)\n",
        "      \n",
        "      GLCM=[]\n",
        "      for ii in Nomes:\n",
        "        GLCM.append(Mahotas[ii].mean())\n",
        "        #print('cheguei aqui!!!')\n",
        "      glcm_haralick.append(GLCM)\n",
        "\n",
        "  df=pd.DataFrame(glcm_haralick,columns=Nomes)\n",
        "  print(df)\n",
        "  #print(Cada_foto)"
      ],
      "execution_count": 0,
      "outputs": []
    },
    {
      "cell_type": "code",
      "metadata": {
        "id": "IPEQ7pf5NUjs",
        "colab_type": "code",
        "colab": {}
      },
      "source": [
        "# esta parte calcula picos, area abaixo da curva antes ela precisa gerar \n",
        "# o dataframe que contem a propriedade escolhida com uma foto em cada linha ....\n",
        "for i in range(NumFotos):\n",
        "  x=df[i,:]\n",
        "  peaks, rr = find_peaks(x, height=0)\n",
        "\n",
        "  N_peaks=len(peaks)\n",
        "  prominences = peak_prominences(x, peaks)\n",
        "  Media_proem=np.mean(prominences)\n",
        "  Area = simps(x, dx=1)\n",
        "  Width_peaks =np.mean(peak_widths(x, peaks, rel_height=0.5))\n",
        "  Width_peaks_max =np.max(peak_widths(x, peaks, rel_height=0.5))\n",
        "  Width_peaks_min =np.min(peak_widths(x, peaks, rel_height=0.5))\n",
        "  Median = np.median(x)\n",
        "  Mode= stats.mode(x)[0]\n",
        "  Mean=np.mean(x)\n",
        "  Sd=np.std(x)\n",
        "\n",
        "  Features=[]\n",
        "  Features.append(N_peaks)\n",
        "  Features.append(Media_proem )\n",
        "  Features.append(Area)\n",
        "  Features.append(Width_peaks )\n",
        "  Features.append(Width_peaks_max)\n",
        "  Features.append(Width_peaks_min)\n",
        "  Features.append(Median )\n",
        "  Features.append(Mode[0])\n",
        "  Features.append(Mean)\n",
        "  Features.append(Sd)\n",
        "  Features=pd.DataFrame(Features,index=Nomes)\n",
        "  matriz_x_b[i,:]=np.array(Features.loc[:,0])"
      ],
      "execution_count": 0,
      "outputs": []
    },
    {
      "cell_type": "code",
      "metadata": {
        "id": "WkQzQVXn3k42",
        "colab_type": "code",
        "outputId": "d493d871-a0f4-43fe-91b4-a80990a9a3b6",
        "colab": {
          "base_uri": "https://localhost:8080/",
          "height": 374
        }
      },
      "source": [
        "# find df texture for a given picture\n",
        "df=Go2Mahotas.Mahotas(ww[0],Size,Sub_Size,Crop,img_name)\n",
        "print(df)"
      ],
      "execution_count": 0,
      "outputs": [
        {
          "output_type": "stream",
          "text": [
            "         ASM   constrast    correl  ...  dif entropy      IMC1      IMC2\n",
            "0   0.062114   15.805556  0.118833  ...     2.600961 -0.510280  0.968961\n",
            "1   0.054688   59.854167 -0.082244  ...     2.712072 -0.621625  0.989078\n",
            "2   0.052951   90.243056 -0.000144  ...     2.840748 -0.725483  0.995986\n",
            "3   0.052083   90.388889  0.160040  ...     2.771303 -0.680857  0.993830\n",
            "4   0.053434   77.562500  0.331489  ...     2.764495 -0.644239  0.991322\n",
            "5   0.060185   46.638889  0.507428  ...     2.696888 -0.673112  0.992278\n",
            "6   0.064333   41.708333  0.522625  ...     2.634252 -0.634782  0.988039\n",
            "7   0.058931   30.319444  0.483757  ...     2.319265 -0.723731  0.995494\n",
            "8   0.057388   19.104167  0.481467  ...     2.259791 -0.750027  0.996652\n",
            "9   0.053434   32.263889  0.207233  ...     2.535192 -0.732016  0.996303\n",
            "10  0.051890   43.611111  0.369478  ...     2.595990 -0.779193  0.997869\n",
            "11  0.056713   38.555556  0.426907  ...     2.498496 -0.744323  0.996186\n",
            "12  0.058256   26.868056  0.170268  ...     2.415163 -0.710839  0.994484\n",
            "13  0.055170   18.458333  0.520341  ...     2.343881 -0.736825  0.996181\n",
            "14  0.054302   22.236111  0.507916  ...     2.413325 -0.768986  0.997439\n",
            "15  0.052083  221.625000  0.234800  ...     2.783354 -0.733072  0.996397\n",
            "16  0.052083  263.694444  0.581437  ...     2.998768 -0.699292  0.994689\n",
            "\n",
            "[17 rows x 13 columns]\n"
          ],
          "name": "stdout"
        }
      ]
    },
    {
      "cell_type": "code",
      "metadata": {
        "id": "eZZY2MIIMBvb",
        "colab_type": "code",
        "colab": {}
      },
      "source": [
        "row_b,col=df_b.shape # pega quantas fotos tem"
      ],
      "execution_count": 0,
      "outputs": []
    },
    {
      "cell_type": "code",
      "metadata": {
        "id": "P4XVtqp4HGIs",
        "colab_type": "code",
        "outputId": "1ad6e13a-e52c-415d-f257-2c7ea8f9bc71",
        "colab": {
          "base_uri": "https://localhost:8080/",
          "height": 35
        }
      },
      "source": [
        "print(len(New_Colunm))"
      ],
      "execution_count": 0,
      "outputs": [
        {
          "output_type": "stream",
          "text": [
            "540\n"
          ],
          "name": "stdout"
        }
      ]
    },
    {
      "cell_type": "code",
      "metadata": {
        "id": "U2ymyUPFiADf",
        "colab_type": "code",
        "colab": {}
      },
      "source": [
        "j=0\n",
        "cont=-1\n",
        "Posicao_Buraco=[]\n",
        "for i in img_name:\n",
        "  cont=cont+1\n",
        "  for k in Buraco:\n",
        "    if(i==k):\n",
        "      Posicao_Buraco.append(cont)\n",
        "j=0\n",
        "cont=-1\n",
        "Posicao_Grao=[]\n",
        "for i in img_name:\n",
        "  cont=cont+1\n",
        "  for k in Grao:\n",
        "    if(i==k):\n",
        "      Posicao_Grao.append(cont)\n",
        "\n",
        "j=0\n",
        "cont=-1\n",
        "Posicao_Indef=[]\n",
        "for i in img_name:\n",
        "  cont=cont+1\n",
        "  for k in Indef:\n",
        "    if(i==k):\n",
        "      Posicao_Indef.append(cont)\n",
        "\n",
        "# print(Posicao_Grao)\n",
        "# print(Posicao_Buraco)\n",
        "# print(Posicao_Indef)\n"
      ],
      "execution_count": 0,
      "outputs": []
    },
    {
      "cell_type": "code",
      "metadata": {
        "id": "23vdxpKHZEzN",
        "colab_type": "code",
        "outputId": "5f2a8147-9c85-4bd4-9117-6b06d845dbfd",
        "colab": {
          "base_uri": "https://localhost:8080/",
          "height": 338
        }
      },
      "source": [
        "print(np.asarray(New_Colunm)[Posicao_Buraco])"
      ],
      "execution_count": 0,
      "outputs": [
        {
          "output_type": "stream",
          "text": [
            "[0.48   0.4725 0.39   0.435  0.3625 0.3675 0.4825 0.475  0.515  0.4975\n",
            " 0.5575 0.54   0.46   0.48   0.4475 0.455  0.3275 0.4325 0.4025 0.4575\n",
            " 0.4125 0.41   0.4225 0.4825 0.53   0.49   0.38   0.405  0.4125 0.41\n",
            " 0.51   0.525  0.44   0.435  0.5125 0.39   0.565  0.5075 0.485  0.4825\n",
            " 0.3625 0.375  0.355  0.4075 0.405  0.465  0.4575 0.4725 0.4825 0.4375\n",
            " 0.33   0.5625 0.33   0.3675 0.41   0.5    0.53   0.4875 0.47   0.54\n",
            " 0.5175 0.48   0.48   0.5525 0.3875 0.4575 0.3975 0.3575 0.4975 0.4\n",
            " 0.465  0.515  0.5475 0.54   0.4675 0.3825 0.4725 0.505  0.51   0.5475\n",
            " 0.4475 0.505  0.51   0.5025 0.4725 0.465  0.6425 0.4275 0.3775 0.4475\n",
            " 0.41   0.49   0.56   0.4225 0.425  0.405  0.3525 0.4675 0.525  0.5375\n",
            " 0.4125 0.4775 0.45   0.435  0.5    0.4275 0.43   0.3825 0.295  0.5075\n",
            " 0.565  0.4575 0.425  0.3975 0.5125 0.5    0.4    0.3475 0.385  0.45\n",
            " 0.3125 0.33   0.485  0.39   0.365  0.43   0.46   0.5275 0.5675 0.47\n",
            " 0.4825 0.6025 0.53   0.6025 0.44   0.4575 0.3675 0.4875 0.395  0.4825\n",
            " 0.3675 0.3875 0.445  0.495  0.465  0.425  0.4975 0.525  0.4025 0.34\n",
            " 0.4575 0.37   0.575  0.3925 0.4575 0.355  0.34   0.3125 0.37   0.4875\n",
            " 0.4875 0.4875 0.5375 0.5375 0.455  0.5725 0.405  0.5375 0.53   0.3925\n",
            " 0.36   0.5    0.57   0.505  0.5225 0.4875 0.4475 0.57   0.535  0.385 ]\n"
          ],
          "name": "stdout"
        }
      ]
    },
    {
      "cell_type": "code",
      "metadata": {
        "id": "gdi4zaRoJ34B",
        "colab_type": "code",
        "colab": {}
      },
      "source": [
        ""
      ],
      "execution_count": 0,
      "outputs": []
    },
    {
      "cell_type": "code",
      "metadata": {
        "id": "aNTlSGubnL3P",
        "colab_type": "code",
        "colab": {}
      },
      "source": [
        "\n",
        "# compara constrast dos tres primeiros buracos\n",
        "Num=len(Posicao_Buraco)\n",
        "Matriz_X_Buraco=[]\n",
        "#Efeito_escuro=[]\n",
        "#Num=3\n",
        "for i in range(Num):\n",
        "  k=Posicao_Buraco[i]\n",
        "  df=Go2Mahotas.Mahotas(ww[k],Size,Sub_Size,Crop,img_name)\n",
        "  Matriz_X_Buraco.append(np.array(df[Prop]).ravel())\n",
        "Contraste_Buraco=pd.DataFrame(Matriz_X_Buraco)"
      ],
      "execution_count": 0,
      "outputs": []
    },
    {
      "cell_type": "code",
      "metadata": {
        "id": "q-3MXzSkZvh7",
        "colab_type": "code",
        "outputId": "7c599f08-cd50-4964-a417-404b256abe5f",
        "colab": {
          "base_uri": "https://localhost:8080/",
          "height": 267
        }
      },
      "source": [
        "Row,Col=Contraste_Buraco.shape\n",
        "New=np.asarray(New_Colunm)[Posicao_Buraco]\n",
        "#Matriz_New = np.hstack(Matriz_X_Buraco,New)\n",
        "#print(Matriz_New)\n",
        "Contraste_Buraco=pd.DataFrame(Matriz_X_Buraco)\n",
        "Contraste_Buraco[Col]=New\n",
        "print(Contraste_Buraco)"
      ],
      "execution_count": 0,
      "outputs": [
        {
          "output_type": "stream",
          "text": [
            "             0           1           2   ...          15           16      17\n",
            "0     15.805556   59.854167   90.243056  ...  221.625000   263.694444  0.4800\n",
            "1    334.513889  166.770833   21.409722  ...  162.298611   266.145833  0.4725\n",
            "2     36.465278   73.875000  118.305556  ...  264.666667   309.222222  0.3900\n",
            "3     77.875000  403.062500  868.902778  ...  123.861111   439.076389  0.4350\n",
            "4     30.006944   13.534722   20.555556  ...  177.465278   235.729167  0.3625\n",
            "..          ...         ...         ...  ...         ...          ...     ...\n",
            "175  152.041667  194.805556  629.131944  ...   85.826389   466.020833  0.4875\n",
            "176  603.208333  553.770833   17.152778  ...   24.437500    16.347222  0.4475\n",
            "177   21.708333   18.666667   13.951389  ...  384.743056  1286.319444  0.5700\n",
            "178  359.770833  667.562500  685.555556  ...   88.201389   204.972222  0.5350\n",
            "179  198.423611   30.701389   23.104167  ...   24.604167    14.833333  0.3850\n",
            "\n",
            "[180 rows x 18 columns]\n"
          ],
          "name": "stdout"
        }
      ]
    },
    {
      "cell_type": "code",
      "metadata": {
        "id": "FKpqBGqMq0U2",
        "colab_type": "code",
        "colab": {}
      },
      "source": [
        "# compara constrast dos graos\n",
        "Num=len(Posicao_Grao)\n",
        "Matriz_X_Grao=[]\n",
        "for i in range(Num):\n",
        "  k=Posicao_Grao[i]\n",
        "  df=Go2Mahotas.Mahotas(ww[k],Size,Sub_Size,Crop,img_name)\n",
        "  Matriz_X_Grao.append(np.array(df['constrast']).ravel())\n",
        "\n",
        "Contraste_Grao=pd.DataFrame(Matriz_X_Grao)"
      ],
      "execution_count": 0,
      "outputs": []
    },
    {
      "cell_type": "code",
      "metadata": {
        "id": "O8C8T8vDbJwG",
        "colab_type": "code",
        "outputId": "3234ee99-b53f-4357-b9d6-f6b1541eea19",
        "colab": {
          "base_uri": "https://localhost:8080/",
          "height": 267
        }
      },
      "source": [
        "Row,Col=Contraste_Buraco.shape\n",
        "New=np.asarray(New_Colunm)[Posicao_Grao]\n",
        "Contraste_Grao[Col]=New\n",
        "print(Contraste_Grao)"
      ],
      "execution_count": 0,
      "outputs": [
        {
          "output_type": "stream",
          "text": [
            "              0           1           2   ...           15           16      18\n",
            "0    1452.465278  123.659722   90.680556  ...   218.270833  5263.263889  0.5000\n",
            "1     617.437500  124.784722  154.604167  ...   694.937500  2631.937500  0.6275\n",
            "2    1004.381944  934.819444  676.111111  ...  3854.965278  2758.576389  0.4900\n",
            "3     762.923611  234.847222  404.520833  ...  3793.701389  4317.569444  0.5425\n",
            "4      37.902778  174.916667  514.861111  ...   771.958333   824.465278  0.4325\n",
            "..           ...         ...         ...  ...          ...          ...     ...\n",
            "175    34.069444   22.069444  389.208333  ...  2926.888889  2888.104167  0.4950\n",
            "176   750.402778  645.680556  406.180556  ...   219.555556   329.923611  0.6200\n",
            "177    74.729167   97.138889   76.340278  ...  1551.097222  1795.798611  0.5000\n",
            "178   203.298611   31.020833   32.423611  ...    35.173611   622.875000  0.6075\n",
            "179   252.361111  132.715278   45.631944  ...    85.173611   161.041667  0.6000\n",
            "\n",
            "[180 rows x 18 columns]\n"
          ],
          "name": "stdout"
        }
      ]
    },
    {
      "cell_type": "code",
      "metadata": {
        "id": "uno28vfVq0lc",
        "colab_type": "code",
        "colab": {}
      },
      "source": [
        "# compara constrast dos indefinidos\n",
        "Num=len(Posicao_Indef)\n",
        "Matriz_X_Indef=[]\n",
        "for i in range(Num):\n",
        "  k=Posicao_Indef[i]\n",
        "  df=Go2Mahotas.Mahotas(ww[k],Size,Sub_Size,Crop,img_name)\n",
        "  Matriz_X_Indef.append(np.array(df['constrast']).ravel())\n",
        "\n",
        "Contraste_Indef=pd.DataFrame(Matriz_X_Indef)"
      ],
      "execution_count": 0,
      "outputs": []
    },
    {
      "cell_type": "code",
      "metadata": {
        "id": "7N4B7Iq-bcWd",
        "colab_type": "code",
        "outputId": "a15a83c6-1e3f-48e9-df61-7f1c8a3e5dc5",
        "colab": {
          "base_uri": "https://localhost:8080/",
          "height": 267
        }
      },
      "source": [
        "Row,Col=Contraste_Indef.shape\n",
        "New=np.asarray(New_Colunm)[Posicao_Indef]\n",
        "Contraste_Indef[Col]=New\n",
        "print(Contraste_Indef)"
      ],
      "execution_count": 0,
      "outputs": [
        {
          "output_type": "stream",
          "text": [
            "              0            1           2   ...           15          16      17\n",
            "0      37.972222    18.263889   28.798611  ...    25.881944   25.736111  0.5325\n",
            "1      95.055556    73.715278   66.451389  ...    83.847222   79.111111  0.3900\n",
            "2      36.791667    66.888889  109.944444  ...   467.222222  562.833333  0.5175\n",
            "3      47.861111    63.020833   82.118056  ...   341.916667  368.111111  0.4800\n",
            "4      41.888889    14.937500    3.284722  ...    66.583333   37.548611  0.5625\n",
            "..           ...          ...         ...  ...          ...         ...     ...\n",
            "175   632.069444   513.083333  294.055556  ...   129.006944  148.722222  0.5300\n",
            "176  1858.451389  1918.118056  810.284722  ...  1501.819444  774.548611  0.4400\n",
            "177    57.263889    80.770833   87.458333  ...    23.743056   37.451389  0.5100\n",
            "178    69.125000    89.659722  107.888889  ...    15.027778   16.284722  0.5225\n",
            "179    68.451389    84.868056   80.138889  ...    23.097222   17.006944  0.5325\n",
            "\n",
            "[180 rows x 18 columns]\n"
          ],
          "name": "stdout"
        }
      ]
    },
    {
      "cell_type": "code",
      "metadata": {
        "id": "EHSBh2ye9WV8",
        "colab_type": "code",
        "outputId": "04d9526c-cd7a-4fc1-abaf-0b1902347e5f",
        "colab": {
          "base_uri": "https://localhost:8080/",
          "height": 338
        }
      },
      "source": [
        "print(Contraste_Buraco.head(15))"
      ],
      "execution_count": 0,
      "outputs": [
        {
          "output_type": "stream",
          "text": [
            "            0            1           2   ...          15           16      17\n",
            "0    15.805556    59.854167   90.243056  ...  221.625000   263.694444  0.4800\n",
            "1   334.513889   166.770833   21.409722  ...  162.298611   266.145833  0.4725\n",
            "2    36.465278    73.875000  118.305556  ...  264.666667   309.222222  0.3900\n",
            "3    77.875000   403.062500  868.902778  ...  123.861111   439.076389  0.4350\n",
            "4    30.006944    13.534722   20.555556  ...  177.465278   235.729167  0.3625\n",
            "5   286.243056   144.027778   81.631944  ...  229.361111   377.166667  0.3675\n",
            "6    22.138889    46.750000   74.118056  ...  726.458333   774.388889  0.4825\n",
            "7   614.444444   511.868056  335.562500  ...  361.041667   727.361111  0.4750\n",
            "8   341.222222   101.305556    7.145833  ...  686.666667   243.243056  0.5150\n",
            "9   179.375000    85.250000   83.138889  ...    6.451389    12.486111  0.4975\n",
            "10  248.666667    88.930556   56.187500  ...  646.722222   976.055556  0.5575\n",
            "11  139.555556    91.743056   82.937500  ...  247.527778   247.562500  0.5400\n",
            "12   24.854167    40.305556   46.645833  ...  170.006944   189.763889  0.4600\n",
            "13   38.423611    30.416667   34.805556  ...  265.673611   322.416667  0.4800\n",
            "14  740.861111  1042.555556  928.861111  ...  620.111111  1072.020833  0.4475\n",
            "\n",
            "[15 rows x 18 columns]\n"
          ],
          "name": "stdout"
        }
      ]
    },
    {
      "cell_type": "code",
      "metadata": {
        "id": "k5e1EwMAs84e",
        "colab_type": "code",
        "outputId": "f0a25f28-a232-470b-f75f-8e8dd5cac2ca",
        "colab": {
          "base_uri": "https://localhost:8080/",
          "height": 338
        }
      },
      "source": [
        "print(Contraste_Grao.head(15))"
      ],
      "execution_count": 0,
      "outputs": [
        {
          "output_type": "stream",
          "text": [
            "             0            1           2   ...           15           16      18\n",
            "0   1452.465278   123.659722   90.680556  ...   218.270833  5263.263889  0.5000\n",
            "1    617.437500   124.784722  154.604167  ...   694.937500  2631.937500  0.6275\n",
            "2   1004.381944   934.819444  676.111111  ...  3854.965278  2758.576389  0.4900\n",
            "3    762.923611   234.847222  404.520833  ...  3793.701389  4317.569444  0.5425\n",
            "4     37.902778   174.916667  514.861111  ...   771.958333   824.465278  0.4325\n",
            "5    331.666667   108.013889  146.972222  ...   944.868056   916.215278  0.4625\n",
            "6    466.013889   240.715278   76.034722  ...   652.659722   788.472222  0.4475\n",
            "7   3444.659722  1004.534722  185.472222  ...   636.118056  1765.375000  0.6575\n",
            "8   2314.277778    35.354167   10.125000  ...  2759.534722  3340.458333  0.5325\n",
            "9     78.923611    61.944444   53.506944  ...   120.902778   329.111111  0.4125\n",
            "10  1798.826389  1635.881944   87.104167  ...  7794.125000  7875.527778  0.5000\n",
            "11   151.770833   101.555556   48.736111  ...   101.284722  1063.055556  0.4600\n",
            "12   636.305556   660.680556  420.902778  ...   246.215278   184.708333  0.6300\n",
            "13   115.048611   100.430556   90.763889  ...    56.395833   124.763889  0.4325\n",
            "14   253.006944   160.270833   67.229167  ...   180.736111   220.909722  0.5050\n",
            "\n",
            "[15 rows x 18 columns]\n"
          ],
          "name": "stdout"
        }
      ]
    },
    {
      "cell_type": "code",
      "metadata": {
        "id": "3ehKvYQAs9TP",
        "colab_type": "code",
        "outputId": "6dbfb5aa-b305-4c5f-a7f6-4d82a293f017",
        "colab": {
          "base_uri": "https://localhost:8080/",
          "height": 338
        }
      },
      "source": [
        "print(Contraste_Indef.head(15))"
      ],
      "execution_count": 0,
      "outputs": [
        {
          "output_type": "stream",
          "text": [
            "             0            1            2   ...           15           16      17\n",
            "0     37.972222    18.263889    28.798611  ...    25.881944    25.736111  0.5325\n",
            "1     95.055556    73.715278    66.451389  ...    83.847222    79.111111  0.3900\n",
            "2     36.791667    66.888889   109.944444  ...   467.222222   562.833333  0.5175\n",
            "3     47.861111    63.020833    82.118056  ...   341.916667   368.111111  0.4800\n",
            "4     41.888889    14.937500     3.284722  ...    66.583333    37.548611  0.5625\n",
            "5    368.534722   359.444444    47.097222  ...   216.673611   293.368056  0.4675\n",
            "6     92.354167   117.000000   115.541667  ...   315.812500   300.430556  0.4400\n",
            "7     43.861111    58.312500    49.729167  ...   811.604167  1021.520833  0.5400\n",
            "8     59.284722    33.111111     9.541667  ...  1687.756944  1960.736111  0.4650\n",
            "9     84.784722   455.284722   601.305556  ...    43.500000    50.659722  0.4975\n",
            "10    64.465278    16.750000    23.305556  ...   767.090278  1412.111111  0.5575\n",
            "11    64.305556   115.854167   207.416667  ...   616.090278   509.250000  0.4875\n",
            "12  1325.166667  2150.222222  1859.826389  ...   399.513889   240.798611  0.4300\n",
            "13    63.770833    79.076389    73.625000  ...  1470.743056  1328.902778  0.5625\n",
            "14    24.895833    27.715278    27.013889  ...    14.951389    15.715278  0.4475\n",
            "\n",
            "[15 rows x 18 columns]\n"
          ],
          "name": "stdout"
        }
      ]
    },
    {
      "cell_type": "code",
      "metadata": {
        "id": "dZSOVH78CeU_",
        "colab_type": "code",
        "outputId": "852f205b-49af-416a-bb61-096c2aed7900",
        "colab": {
          "base_uri": "https://localhost:8080/",
          "height": 570
        }
      },
      "source": [
        "# found drive\n",
        "from google.colab import drive\n",
        "drive.mount('drive')"
      ],
      "execution_count": 0,
      "outputs": [
        {
          "output_type": "error",
          "ename": "KeyboardInterrupt",
          "evalue": "ignored",
          "traceback": [
            "\u001b[0;31m---------------------------------------------------------------------------\u001b[0m",
            "\u001b[0;31mKeyboardInterrupt\u001b[0m                         Traceback (most recent call last)",
            "\u001b[0;32m/usr/local/lib/python3.6/dist-packages/ipykernel/kernelbase.py\u001b[0m in \u001b[0;36m_input_request\u001b[0;34m(self, prompt, ident, parent, password)\u001b[0m\n\u001b[1;32m    729\u001b[0m             \u001b[0;32mtry\u001b[0m\u001b[0;34m:\u001b[0m\u001b[0;34m\u001b[0m\u001b[0;34m\u001b[0m\u001b[0m\n\u001b[0;32m--> 730\u001b[0;31m                 \u001b[0mident\u001b[0m\u001b[0;34m,\u001b[0m \u001b[0mreply\u001b[0m \u001b[0;34m=\u001b[0m \u001b[0mself\u001b[0m\u001b[0;34m.\u001b[0m\u001b[0msession\u001b[0m\u001b[0;34m.\u001b[0m\u001b[0mrecv\u001b[0m\u001b[0;34m(\u001b[0m\u001b[0mself\u001b[0m\u001b[0;34m.\u001b[0m\u001b[0mstdin_socket\u001b[0m\u001b[0;34m,\u001b[0m \u001b[0;36m0\u001b[0m\u001b[0;34m)\u001b[0m\u001b[0;34m\u001b[0m\u001b[0;34m\u001b[0m\u001b[0m\n\u001b[0m\u001b[1;32m    731\u001b[0m             \u001b[0;32mexcept\u001b[0m \u001b[0mException\u001b[0m\u001b[0;34m:\u001b[0m\u001b[0;34m\u001b[0m\u001b[0;34m\u001b[0m\u001b[0m\n",
            "\u001b[0;32m/usr/local/lib/python3.6/dist-packages/jupyter_client/session.py\u001b[0m in \u001b[0;36mrecv\u001b[0;34m(self, socket, mode, content, copy)\u001b[0m\n\u001b[1;32m    802\u001b[0m         \u001b[0;32mtry\u001b[0m\u001b[0;34m:\u001b[0m\u001b[0;34m\u001b[0m\u001b[0;34m\u001b[0m\u001b[0m\n\u001b[0;32m--> 803\u001b[0;31m             \u001b[0mmsg_list\u001b[0m \u001b[0;34m=\u001b[0m \u001b[0msocket\u001b[0m\u001b[0;34m.\u001b[0m\u001b[0mrecv_multipart\u001b[0m\u001b[0;34m(\u001b[0m\u001b[0mmode\u001b[0m\u001b[0;34m,\u001b[0m \u001b[0mcopy\u001b[0m\u001b[0;34m=\u001b[0m\u001b[0mcopy\u001b[0m\u001b[0;34m)\u001b[0m\u001b[0;34m\u001b[0m\u001b[0;34m\u001b[0m\u001b[0m\n\u001b[0m\u001b[1;32m    804\u001b[0m         \u001b[0;32mexcept\u001b[0m \u001b[0mzmq\u001b[0m\u001b[0;34m.\u001b[0m\u001b[0mZMQError\u001b[0m \u001b[0;32mas\u001b[0m \u001b[0me\u001b[0m\u001b[0;34m:\u001b[0m\u001b[0;34m\u001b[0m\u001b[0;34m\u001b[0m\u001b[0m\n",
            "\u001b[0;32m/usr/local/lib/python3.6/dist-packages/zmq/sugar/socket.py\u001b[0m in \u001b[0;36mrecv_multipart\u001b[0;34m(self, flags, copy, track)\u001b[0m\n\u001b[1;32m    465\u001b[0m         \"\"\"\n\u001b[0;32m--> 466\u001b[0;31m         \u001b[0mparts\u001b[0m \u001b[0;34m=\u001b[0m \u001b[0;34m[\u001b[0m\u001b[0mself\u001b[0m\u001b[0;34m.\u001b[0m\u001b[0mrecv\u001b[0m\u001b[0;34m(\u001b[0m\u001b[0mflags\u001b[0m\u001b[0;34m,\u001b[0m \u001b[0mcopy\u001b[0m\u001b[0;34m=\u001b[0m\u001b[0mcopy\u001b[0m\u001b[0;34m,\u001b[0m \u001b[0mtrack\u001b[0m\u001b[0;34m=\u001b[0m\u001b[0mtrack\u001b[0m\u001b[0;34m)\u001b[0m\u001b[0;34m]\u001b[0m\u001b[0;34m\u001b[0m\u001b[0;34m\u001b[0m\u001b[0m\n\u001b[0m\u001b[1;32m    467\u001b[0m         \u001b[0;31m# have first part already, only loop while more to receive\u001b[0m\u001b[0;34m\u001b[0m\u001b[0;34m\u001b[0m\u001b[0;34m\u001b[0m\u001b[0m\n",
            "\u001b[0;32mzmq/backend/cython/socket.pyx\u001b[0m in \u001b[0;36mzmq.backend.cython.socket.Socket.recv\u001b[0;34m()\u001b[0m\n",
            "\u001b[0;32mzmq/backend/cython/socket.pyx\u001b[0m in \u001b[0;36mzmq.backend.cython.socket.Socket.recv\u001b[0;34m()\u001b[0m\n",
            "\u001b[0;32mzmq/backend/cython/socket.pyx\u001b[0m in \u001b[0;36mzmq.backend.cython.socket._recv_copy\u001b[0;34m()\u001b[0m\n",
            "\u001b[0;32m/usr/local/lib/python3.6/dist-packages/zmq/backend/cython/checkrc.pxd\u001b[0m in \u001b[0;36mzmq.backend.cython.checkrc._check_rc\u001b[0;34m()\u001b[0m\n",
            "\u001b[0;31mKeyboardInterrupt\u001b[0m: ",
            "\nDuring handling of the above exception, another exception occurred:\n",
            "\u001b[0;31mKeyboardInterrupt\u001b[0m                         Traceback (most recent call last)",
            "\u001b[0;32m<ipython-input-25-7b0c2cba9ae5>\u001b[0m in \u001b[0;36m<module>\u001b[0;34m()\u001b[0m\n\u001b[1;32m      1\u001b[0m \u001b[0;32mfrom\u001b[0m \u001b[0mgoogle\u001b[0m\u001b[0;34m.\u001b[0m\u001b[0mcolab\u001b[0m \u001b[0;32mimport\u001b[0m \u001b[0mdrive\u001b[0m\u001b[0;34m\u001b[0m\u001b[0;34m\u001b[0m\u001b[0m\n\u001b[0;32m----> 2\u001b[0;31m \u001b[0mdrive\u001b[0m\u001b[0;34m.\u001b[0m\u001b[0mmount\u001b[0m\u001b[0;34m(\u001b[0m\u001b[0;34m'drive'\u001b[0m\u001b[0;34m)\u001b[0m\u001b[0;34m\u001b[0m\u001b[0;34m\u001b[0m\u001b[0m\n\u001b[0m",
            "\u001b[0;32m/usr/local/lib/python3.6/dist-packages/google/colab/drive.py\u001b[0m in \u001b[0;36mmount\u001b[0;34m(mountpoint, force_remount, timeout_ms, use_metadata_server)\u001b[0m\n\u001b[1;32m    236\u001b[0m       \u001b[0mauth_prompt\u001b[0m \u001b[0;34m=\u001b[0m \u001b[0md\u001b[0m\u001b[0;34m.\u001b[0m\u001b[0mmatch\u001b[0m\u001b[0;34m.\u001b[0m\u001b[0mgroup\u001b[0m\u001b[0;34m(\u001b[0m\u001b[0;36m1\u001b[0m\u001b[0;34m)\u001b[0m \u001b[0;34m+\u001b[0m \u001b[0;34m'\\nEnter your authorization code:\\n'\u001b[0m\u001b[0;34m\u001b[0m\u001b[0;34m\u001b[0m\u001b[0m\n\u001b[1;32m    237\u001b[0m       \u001b[0;32mwith\u001b[0m \u001b[0mopen\u001b[0m\u001b[0;34m(\u001b[0m\u001b[0mfifo\u001b[0m\u001b[0;34m,\u001b[0m \u001b[0;34m'w'\u001b[0m\u001b[0;34m)\u001b[0m \u001b[0;32mas\u001b[0m \u001b[0mfifo_file\u001b[0m\u001b[0;34m:\u001b[0m\u001b[0;34m\u001b[0m\u001b[0;34m\u001b[0m\u001b[0m\n\u001b[0;32m--> 238\u001b[0;31m         \u001b[0mfifo_file\u001b[0m\u001b[0;34m.\u001b[0m\u001b[0mwrite\u001b[0m\u001b[0;34m(\u001b[0m\u001b[0m_getpass\u001b[0m\u001b[0;34m.\u001b[0m\u001b[0mgetpass\u001b[0m\u001b[0;34m(\u001b[0m\u001b[0mauth_prompt\u001b[0m\u001b[0;34m)\u001b[0m \u001b[0;34m+\u001b[0m \u001b[0;34m'\\n'\u001b[0m\u001b[0;34m)\u001b[0m\u001b[0;34m\u001b[0m\u001b[0;34m\u001b[0m\u001b[0m\n\u001b[0m\u001b[1;32m    239\u001b[0m       \u001b[0mwrote_to_fifo\u001b[0m \u001b[0;34m=\u001b[0m \u001b[0;32mTrue\u001b[0m\u001b[0;34m\u001b[0m\u001b[0;34m\u001b[0m\u001b[0m\n\u001b[1;32m    240\u001b[0m   \u001b[0;32mif\u001b[0m \u001b[0;32mnot\u001b[0m \u001b[0mwrote_to_fifo\u001b[0m\u001b[0;34m:\u001b[0m\u001b[0;34m\u001b[0m\u001b[0;34m\u001b[0m\u001b[0m\n",
            "\u001b[0;32m/usr/local/lib/python3.6/dist-packages/ipykernel/kernelbase.py\u001b[0m in \u001b[0;36mgetpass\u001b[0;34m(self, prompt, stream)\u001b[0m\n\u001b[1;32m    686\u001b[0m             \u001b[0mself\u001b[0m\u001b[0;34m.\u001b[0m\u001b[0m_parent_ident\u001b[0m\u001b[0;34m,\u001b[0m\u001b[0;34m\u001b[0m\u001b[0;34m\u001b[0m\u001b[0m\n\u001b[1;32m    687\u001b[0m             \u001b[0mself\u001b[0m\u001b[0;34m.\u001b[0m\u001b[0m_parent_header\u001b[0m\u001b[0;34m,\u001b[0m\u001b[0;34m\u001b[0m\u001b[0;34m\u001b[0m\u001b[0m\n\u001b[0;32m--> 688\u001b[0;31m             \u001b[0mpassword\u001b[0m\u001b[0;34m=\u001b[0m\u001b[0;32mTrue\u001b[0m\u001b[0;34m,\u001b[0m\u001b[0;34m\u001b[0m\u001b[0;34m\u001b[0m\u001b[0m\n\u001b[0m\u001b[1;32m    689\u001b[0m         )\n\u001b[1;32m    690\u001b[0m \u001b[0;34m\u001b[0m\u001b[0m\n",
            "\u001b[0;32m/usr/local/lib/python3.6/dist-packages/ipykernel/kernelbase.py\u001b[0m in \u001b[0;36m_input_request\u001b[0;34m(self, prompt, ident, parent, password)\u001b[0m\n\u001b[1;32m    733\u001b[0m             \u001b[0;32mexcept\u001b[0m \u001b[0mKeyboardInterrupt\u001b[0m\u001b[0;34m:\u001b[0m\u001b[0;34m\u001b[0m\u001b[0;34m\u001b[0m\u001b[0m\n\u001b[1;32m    734\u001b[0m                 \u001b[0;31m# re-raise KeyboardInterrupt, to truncate traceback\u001b[0m\u001b[0;34m\u001b[0m\u001b[0;34m\u001b[0m\u001b[0;34m\u001b[0m\u001b[0m\n\u001b[0;32m--> 735\u001b[0;31m                 \u001b[0;32mraise\u001b[0m \u001b[0mKeyboardInterrupt\u001b[0m\u001b[0;34m\u001b[0m\u001b[0;34m\u001b[0m\u001b[0m\n\u001b[0m\u001b[1;32m    736\u001b[0m             \u001b[0;32melse\u001b[0m\u001b[0;34m:\u001b[0m\u001b[0;34m\u001b[0m\u001b[0;34m\u001b[0m\u001b[0m\n\u001b[1;32m    737\u001b[0m                 \u001b[0;32mbreak\u001b[0m\u001b[0;34m\u001b[0m\u001b[0;34m\u001b[0m\u001b[0m\n",
            "\u001b[0;31mKeyboardInterrupt\u001b[0m: "
          ]
        }
      ]
    },
    {
      "cell_type": "code",
      "metadata": {
        "id": "Lw8rqNu0CpQv",
        "colab_type": "code",
        "colab": {}
      },
      "source": [
        "# get csv file\n",
        "Contraste_Buraco.to_csv('Contraste_Buraco_01_jan_2020.csv')"
      ],
      "execution_count": 0,
      "outputs": []
    },
    {
      "cell_type": "code",
      "metadata": {
        "id": "QS3XRVNFtISH",
        "colab_type": "code",
        "colab": {}
      },
      "source": [
        "# get csv file\n",
        "Contraste_Grao.to_csv('Contraste_Grao_01_jan_2020.csv')"
      ],
      "execution_count": 0,
      "outputs": []
    },
    {
      "cell_type": "code",
      "metadata": {
        "id": "1r-ljDKotIlT",
        "colab_type": "code",
        "colab": {}
      },
      "source": [
        "# get csv file\n",
        "Contraste_Indef.to_csv('Contraste_Indef_01_jan_2020.csv')"
      ],
      "execution_count": 0,
      "outputs": []
    },
    {
      "cell_type": "code",
      "metadata": {
        "id": "6KFSiJ3tB7L2",
        "colab_type": "code",
        "colab": {}
      },
      "source": [
        "# save in drive\n",
        "!cp Contraste_Buraco_01_jan_2020.csv drive/My\\ Drive/Maria_Gabriela_Textura_dados_jan_2020/"
      ],
      "execution_count": 0,
      "outputs": []
    },
    {
      "cell_type": "code",
      "metadata": {
        "id": "foBD0uxUtROs",
        "colab_type": "code",
        "colab": {}
      },
      "source": [
        "# save in drive\n",
        "!cp Contraste_Grao_01_jan_2020.csv drive/My\\ Drive/Maria_Gabriela_Textura_dados_jan_2020/"
      ],
      "execution_count": 0,
      "outputs": []
    },
    {
      "cell_type": "code",
      "metadata": {
        "id": "g778xFc2tRh3",
        "colab_type": "code",
        "colab": {}
      },
      "source": [
        "# save in drive\n",
        "!cp Contraste_Indef_01_jan_2020.csv drive/My\\ Drive/Maria_Gabriela_Textura_dados_jan_2020/"
      ],
      "execution_count": 0,
      "outputs": []
    }
  ]
}