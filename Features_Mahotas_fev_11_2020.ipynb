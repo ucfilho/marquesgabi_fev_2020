{
  "nbformat": 4,
  "nbformat_minor": 0,
  "metadata": {
    "colab": {
      "name": "Features_Mahotas_fev_11_2020.ipynb",
      "provenance": [],
      "collapsed_sections": [],
      "include_colab_link": true
    },
    "kernelspec": {
      "name": "python3",
      "display_name": "Python 3"
    },
    "accelerator": "GPU"
  },
  "cells": [
    {
      "cell_type": "markdown",
      "metadata": {
        "id": "view-in-github",
        "colab_type": "text"
      },
      "source": [
        "<a href=\"https://colab.research.google.com/github/ucfilho/marquesgabi_fev_2020/blob/master/Features_Mahotas_fev_11_2020.ipynb\" target=\"_parent\"><img src=\"https://colab.research.google.com/assets/colab-badge.svg\" alt=\"Open In Colab\"/></a>"
      ]
    },
    {
      "cell_type": "code",
      "metadata": {
        "id": "f393Z8HdEmRg",
        "colab_type": "code",
        "outputId": "c89d4e2e-e721-4b74-933e-63e7fca9647c",
        "colab": {
          "base_uri": "https://localhost:8080/",
          "height": 74
        }
      },
      "source": [
        "!pip install mahotas"
      ],
      "execution_count": 0,
      "outputs": [
        {
          "output_type": "stream",
          "text": [
            "Requirement already satisfied: mahotas in /usr/local/lib/python3.6/dist-packages (1.4.9)\n",
            "Requirement already satisfied: numpy in /usr/local/lib/python3.6/dist-packages (from mahotas) (1.17.5)\n"
          ],
          "name": "stdout"
        }
      ]
    },
    {
      "cell_type": "code",
      "metadata": {
        "id": "W0wfLMP8nWAM",
        "colab_type": "code",
        "outputId": "84d1fbde-8c59-460d-8c02-740283ae6c1f",
        "colab": {
          "base_uri": "https://localhost:8080/",
          "height": 54
        }
      },
      "source": [
        "\n",
        "!git clone https://github.com/ucfilho/marquesgabi_fev_2020 #clonar do Github\n",
        "%cd marquesgabi_fev_2020"
      ],
      "execution_count": 0,
      "outputs": [
        {
          "output_type": "stream",
          "text": [
            "fatal: destination path 'marquesgabi_fev_2020' already exists and is not an empty directory.\n",
            "/content/marquesgabi_fev_2020\n"
          ],
          "name": "stdout"
        }
      ]
    },
    {
      "cell_type": "code",
      "metadata": {
        "id": "SzWdrvAgvBId",
        "colab_type": "code",
        "colab": {}
      },
      "source": [
        "import numpy as np\n",
        "import cv2\n",
        "from skimage import data\n",
        "import matplotlib.pyplot as plt\n",
        "import matplotlib\n",
        "import pandas as pd\n",
        "from skimage import io, util\n",
        "import mahotas.features.texture as mht\n",
        "import mahotas.features\n",
        "import os \n",
        "import zipfile\n",
        "from skimage import filters\n",
        "from skimage import exposure\n",
        "import skimage.feature as sk\n",
        "from google.colab import files\n",
        "from numpy import linalg as LA\n",
        "from scipy.signal import find_peaks\n",
        "from scipy.signal import peak_prominences\n",
        "from scipy.signal import peak_widths\n",
        "import re\n",
        "import Go2BlackWhite\n",
        "import Go2Mahotas\n",
        "%matplotlib inline"
      ],
      "execution_count": 0,
      "outputs": []
    },
    {
      "cell_type": "code",
      "metadata": {
        "id": "xoW1HoWp3qNO",
        "colab_type": "code",
        "colab": {}
      },
      "source": [
        "Size=20 # tamanho da foto\n",
        "Sub_Size=int(Size/5) # tamanho do fracionamento\n",
        "Row_Crop=1/2 # posicao do corte\n",
        "Crop=int(Size*Row_Crop)"
      ],
      "execution_count": 0,
      "outputs": []
    },
    {
      "cell_type": "code",
      "metadata": {
        "id": "h1Zsufcm9bfv",
        "colab_type": "code",
        "colab": {}
      },
      "source": [
        "Transfere='Fotos9Amostras.zip'\n",
        "file_name = zipfile.ZipFile(Transfere, 'r')\n",
        "file_name.extractall()"
      ],
      "execution_count": 0,
      "outputs": []
    },
    {
      "cell_type": "code",
      "metadata": {
        "id": "MDDexaSZiaJA",
        "colab_type": "code",
        "outputId": "f8835aa7-5607-4927-ccbb-300448f1306d",
        "colab": {
          "base_uri": "https://localhost:8080/",
          "height": 266
        }
      },
      "source": [
        "ww,img_name=Go2BlackWhite.BlackWhite(Transfere,Size)\n",
        "plt.axis(\"off\")\n",
        "plt.imshow(ww[5], cmap = \"gray\")"
      ],
      "execution_count": 0,
      "outputs": [
        {
          "output_type": "execute_result",
          "data": {
            "text/plain": [
              "<matplotlib.image.AxesImage at 0x7fb42d6e3fd0>"
            ]
          },
          "metadata": {
            "tags": []
          },
          "execution_count": 6
        },
        {
          "output_type": "display_data",
          "data": {
            "image/png": "[encoded data removed]",
            "text/plain": [
              "<Figure size 432x288 with 1 Axes>"
            ]
          },
          "metadata": {
            "tags": []
          }
        }
      ]
    },
    {
      "cell_type": "code",
      "metadata": {
        "id": "c43TnWalRs_H",
        "colab_type": "code",
        "colab": {}
      },
      "source": [
        "file_name = zipfile.ZipFile(Transfere, 'r')\n",
        "file_name.extractall()"
      ],
      "execution_count": 0,
      "outputs": []
    },
    {
      "cell_type": "code",
      "metadata": {
        "id": "GrLtSCRor_By",
        "colab_type": "code",
        "outputId": "02e02d75-6199-4fc0-e2be-6efff8295567",
        "colab": {
          "base_uri": "https://localhost:8080/",
          "height": 35
        }
      },
      "source": [
        "print(len(img_name))"
      ],
      "execution_count": 0,
      "outputs": [
        {
          "output_type": "stream",
          "text": [
            "540\n"
          ],
          "name": "stdout"
        }
      ]
    },
    {
      "cell_type": "code",
      "metadata": {
        "colab_type": "code",
        "id": "qCKcPafHsAuJ",
        "colab": {}
      },
      "source": [
        "# ww contain all photos in black and white\n",
        "ww,img_name=Go2BlackWhite.BlackWhite(Transfere,Size)\n"
      ],
      "execution_count": 0,
      "outputs": []
    },
    {
      "cell_type": "code",
      "metadata": {
        "id": "hDdj1998k-7s",
        "colab_type": "code",
        "outputId": "9120e957-85b4-4d8f-b91d-93278a933ad0",
        "colab": {
          "base_uri": "https://localhost:8080/",
          "height": 266
        }
      },
      "source": [
        "plt.axis(\"off\")\n",
        "plt.imshow(ww[539], cmap = \"gray\")"
      ],
      "execution_count": 0,
      "outputs": [
        {
          "output_type": "execute_result",
          "data": {
            "text/plain": [
              "<matplotlib.image.AxesImage at 0x7fb42d6e3eb8>"
            ]
          },
          "metadata": {
            "tags": []
          },
          "execution_count": 10
        },
        {
          "output_type": "display_data",
          "data": {
            "image/png": "[encoded data removed]",
            "text/plain": [
              "<Figure size 432x288 with 1 Axes>"
            ]
          },
          "metadata": {
            "tags": []
          }
        }
      ]
    },
    {
      "cell_type": "code",
      "metadata": {
        "id": "MukX2r3ys3tm",
        "colab_type": "code",
        "colab": {}
      },
      "source": [
        "# Find the list elements starting with specific letter\n",
        "subs = 'B'\n",
        "Buraco = [x for x in img_name if re.search(subs, x)] \n",
        "subs = 'G'\n",
        "Grao = [x for x in img_name if re.search(subs, x)] \n",
        "subs = 'I'\n",
        "Indef = [x for x in img_name if re.search(subs, x)] "
      ],
      "execution_count": 0,
      "outputs": []
    },
    {
      "cell_type": "code",
      "metadata": {
        "id": "WkQzQVXn3k42",
        "colab_type": "code",
        "outputId": "3d2a6f67-4e8c-4352-83c7-44e6ef0cfe5e",
        "colab": {
          "base_uri": "https://localhost:8080/",
          "height": 383
        }
      },
      "source": [
        "# find df texture for a given picture\n",
        "df=Go2Mahotas.Mahotas(ww[0],Size,Sub_Size,Crop,img_name)   # gotoMahotas junta Mahotas com outros calculos\n",
        "print(df)"
      ],
      "execution_count": 0,
      "outputs": [
        {
          "output_type": "stream",
          "text": [
            "         ASM   constrast    correl  ...  dif entropy      IMC1      IMC2\n",
            "0   0.062114   15.805556  0.118833  ...     2.600961 -0.510280  0.968961\n",
            "1   0.054688   59.854167 -0.082244  ...     2.712072 -0.621625  0.989078\n",
            "2   0.052951   90.243056 -0.000144  ...     2.840748 -0.725483  0.995986\n",
            "3   0.052083   90.388889  0.160040  ...     2.771303 -0.680857  0.993830\n",
            "4   0.053434   77.562500  0.331489  ...     2.764495 -0.644239  0.991322\n",
            "5   0.060185   46.638889  0.507428  ...     2.696888 -0.673112  0.992278\n",
            "6   0.064333   41.708333  0.522625  ...     2.634252 -0.634782  0.988039\n",
            "7   0.058931   30.319444  0.483757  ...     2.319265 -0.723731  0.995494\n",
            "8   0.057388   19.104167  0.481467  ...     2.259791 -0.750027  0.996652\n",
            "9   0.053434   32.263889  0.207233  ...     2.535192 -0.732016  0.996303\n",
            "10  0.051890   43.611111  0.369478  ...     2.595990 -0.779193  0.997869\n",
            "11  0.056713   38.555556  0.426907  ...     2.498496 -0.744323  0.996186\n",
            "12  0.058256   26.868056  0.170268  ...     2.415163 -0.710839  0.994484\n",
            "13  0.055170   18.458333  0.520341  ...     2.343881 -0.736825  0.996181\n",
            "14  0.054302   22.236111  0.507916  ...     2.413325 -0.768986  0.997439\n",
            "15  0.052083  221.625000  0.234800  ...     2.783354 -0.733072  0.996397\n",
            "16  0.052083  263.694444  0.581437  ...     2.998768 -0.699292  0.994689\n",
            "\n",
            "[17 rows x 13 columns]\n"
          ],
          "name": "stdout"
        }
      ]
    },
    {
      "cell_type": "code",
      "metadata": {
        "id": "XfeRom6H2vPv",
        "colab_type": "code",
        "colab": {}
      },
      "source": [
        "Nomes=list(df.columns)"
      ],
      "execution_count": 0,
      "outputs": []
    },
    {
      "cell_type": "code",
      "metadata": {
        "id": "UgKlHvzR4T3J",
        "colab_type": "code",
        "outputId": "29103aed-9c01-4ba6-eb41-087ed5242ecd",
        "colab": {
          "base_uri": "https://localhost:8080/",
          "height": 55
        }
      },
      "source": [
        "print(Nomes)"
      ],
      "execution_count": 0,
      "outputs": [
        {
          "output_type": "stream",
          "text": [
            "['ASM', 'constrast', 'correl', 'variance', 'inv diff mom', 'sum aveg', 'sum var', 'sum entropy', 'entropy', 'dif var', 'dif entropy', 'IMC1', 'IMC2']\n"
          ],
          "name": "stdout"
        }
      ]
    },
    {
      "cell_type": "code",
      "metadata": {
        "id": "BdfF9ZHzjDeI",
        "colab_type": "code",
        "outputId": "d825b234-9c62-4900-8855-f476b97c23c9",
        "colab": {
          "base_uri": "https://localhost:8080/",
          "height": 35
        }
      },
      "source": [
        "print(len(df['ASM']))"
      ],
      "execution_count": 0,
      "outputs": [
        {
          "output_type": "stream",
          "text": [
            "17\n"
          ],
          "name": "stdout"
        }
      ]
    },
    {
      "cell_type": "code",
      "metadata": {
        "id": "U2ymyUPFiADf",
        "colab_type": "code",
        "colab": {}
      },
      "source": [
        "j=0\n",
        "cont=-1\n",
        "Posicao_Buraco=[]\n",
        "for i in img_name:\n",
        "  cont=cont+1\n",
        "  for k in Buraco:\n",
        "    if(i==k):\n",
        "      Posicao_Buraco.append(cont)\n",
        "j=0\n",
        "cont=-1\n",
        "Posicao_Grao=[]\n",
        "for i in img_name:\n",
        "  cont=cont+1\n",
        "  for k in Grao:\n",
        "    if(i==k):\n",
        "      Posicao_Grao.append(cont)\n",
        "\n",
        "j=0\n",
        "cont=-1\n",
        "Posicao_Indef=[]\n",
        "for i in img_name:\n",
        "  cont=cont+1\n",
        "  for k in Indef:\n",
        "    if(i==k):\n",
        "      Posicao_Indef.append(cont)\n",
        "\n",
        "# print(Posicao_Grao)\n",
        "# print(Posicao_Buraco)\n",
        "# print(Posicao_Indef)\n"
      ],
      "execution_count": 0,
      "outputs": []
    },
    {
      "cell_type": "code",
      "metadata": {
        "id": "c2FWBU8DR2Ap",
        "colab_type": "code",
        "outputId": "f5943e00-385e-4432-df57-76009c2fe8b9",
        "colab": {
          "base_uri": "https://localhost:8080/",
          "height": 55
        }
      },
      "source": [
        "print(Posicao_Buraco)"
      ],
      "execution_count": 0,
      "outputs": [
        {
          "output_type": "stream",
          "text": [
            "[0, 1, 2, 3, 4, 5, 6, 7, 8, 9, 30, 31, 32, 33, 34, 35, 36, 37, 38, 39, 60, 61, 62, 63, 64, 65, 66, 67, 68, 69, 90, 91, 92, 93, 94, 95, 96, 97, 98, 99, 120, 121, 122, 123, 124, 125, 126, 127, 128, 129, 150, 151, 152, 153, 154, 155, 156, 157, 158, 159, 180, 181, 182, 183, 184, 185, 186, 187, 188, 189, 210, 211, 212, 213, 214, 215, 216, 217, 218, 219, 240, 241, 242, 243, 244, 245, 246, 247, 248, 249, 270, 271, 272, 273, 274, 275, 276, 277, 278, 279, 300, 301, 302, 303, 304, 305, 306, 307, 308, 309, 330, 331, 332, 333, 334, 335, 336, 337, 338, 339, 360, 361, 362, 363, 364, 365, 366, 367, 368, 369, 390, 391, 392, 393, 394, 395, 396, 397, 398, 399, 420, 421, 422, 423, 424, 425, 426, 427, 428, 429, 450, 451, 452, 453, 454, 455, 456, 457, 458, 459, 480, 481, 482, 483, 484, 485, 486, 487, 488, 489, 510, 511, 512, 513, 514, 515, 516, 517, 518, 519]\n"
          ],
          "name": "stdout"
        }
      ]
    },
    {
      "cell_type": "code",
      "metadata": {
        "id": "7YCD3ESkSFfV",
        "colab_type": "code",
        "colab": {}
      },
      "source": [
        "#for i in range(len(Posicao_Buraco)):\n",
        "#for i in Posicao_Buraco:\n",
        "#  print(i)"
      ],
      "execution_count": 0,
      "outputs": []
    },
    {
      "cell_type": "code",
      "metadata": {
        "id": "aNTlSGubnL3P",
        "colab_type": "code",
        "colab": {}
      },
      "source": [
        "# compara constrast dos tres primeiros buracos\n",
        "\n",
        "Matriz_X_Buraco=[]\n",
        "\n",
        "for k in Posicao_Buraco:\n",
        "  df=Go2Mahotas.Mahotas(ww[k],Size,Sub_Size,Crop,img_name)\n",
        "  Linha=[]\n",
        "  for it in Nomes:\n",
        "    #print(Linha)\n",
        "    #print(\"Nomes=\",Nomes)\n",
        "    #print(\"it=\",it)\n",
        "    #print(df[it])\n",
        "    Linha.append(np.mean(df[it]))\n",
        "  Matriz_X_Buraco.append(Linha)\n",
        "  #plt.figure(i+1)\n",
        "  #plt.plot(df['constrast'])\n",
        "  #print(Matriz_X_Buraco)\n",
        "#print(pd.DataFrame(Matriz_X_Buraco))\n",
        "#Contraste_Buraco=pd.DataFrame(Matriz_X_Buraco,columns=Nomes)\n",
        "Contraste_Buraco=pd.DataFrame(Matriz_X_Buraco) \n",
        "# precisa unir aqui fazer para as fotos sem esquecer de colocar o numero \n",
        "# de picos e outras variaveis de interess"
      ],
      "execution_count": 0,
      "outputs": []
    },
    {
      "cell_type": "code",
      "metadata": {
        "id": "FKpqBGqMq0U2",
        "colab_type": "code",
        "colab": {}
      },
      "source": [
        "# compara constrast dos graos\n",
        "\n",
        "Matriz_X_Grao=[]\n",
        "\n",
        "for k in Posicao_Grao:\n",
        "  df=Go2Mahotas.Mahotas(ww[k],Size,Sub_Size,Crop,img_name)\n",
        "  Linha=[]\n",
        "  for it in Nomes:\n",
        "    Linha.append(np.mean(df[it]))\n",
        "  Matriz_X_Grao.append(Linha)\n",
        "#print(pd.DataFrame(Matriz_X_Grao))\n",
        "\n",
        "Contraste_Grao=pd.DataFrame(Matriz_X_Grao)\n"
      ],
      "execution_count": 0,
      "outputs": []
    },
    {
      "cell_type": "code",
      "metadata": {
        "id": "uno28vfVq0lc",
        "colab_type": "code",
        "colab": {}
      },
      "source": [
        "# compara constrast dos indefinidos\n",
        "\n",
        "Matriz_X_Indef=[]\n",
        "\n",
        "for k in Posicao_Indef:\n",
        "  df=Go2Mahotas.Mahotas(ww[k],Size,Sub_Size,Crop,img_name)\n",
        "  Linha=[]\n",
        "  for it in Nomes:\n",
        "    Linha.append(np.mean(df[it]))\n",
        "  Matriz_X_Indef.append(Linha)\n",
        "#print(pd.DataFrame(Matriz_X_Indef))\n",
        "Contraste_Indef=pd.DataFrame(Matriz_X_Indef)\n",
        "\n"
      ],
      "execution_count": 0,
      "outputs": []
    },
    {
      "cell_type": "code",
      "metadata": {
        "id": "EHSBh2ye9WV8",
        "colab_type": "code",
        "outputId": "12cdb4a1-f873-4b77-f79a-b52c2a0d0c71",
        "colab": {
          "base_uri": "https://localhost:8080/",
          "height": 163
        }
      },
      "source": [
        "print(Contraste_Buraco.head())"
      ],
      "execution_count": 0,
      "outputs": [
        {
          "output_type": "stream",
          "text": [
            "         0           1         2   ...        10        11        12\n",
            "0  0.055885   66.996324  0.325978  ...  2.599056 -0.698158  0.993011\n",
            "1  0.060038   86.345997  0.254951  ...  2.706948 -0.649175  0.983259\n",
            "2  0.056129  130.039216  0.316819  ...  2.820146 -0.738904  0.995701\n",
            "3  0.060032  285.037990  0.349562  ...  2.781249 -0.719246  0.992884\n",
            "4  0.054319  347.037582  0.350965  ...  2.837783 -0.738866  0.994207\n",
            "\n",
            "[5 rows x 13 columns]\n"
          ],
          "name": "stdout"
        }
      ]
    },
    {
      "cell_type": "code",
      "metadata": {
        "id": "k5e1EwMAs84e",
        "colab_type": "code",
        "outputId": "ec8a4a58-b048-440f-86cf-16222d4b6c20",
        "colab": {
          "base_uri": "https://localhost:8080/",
          "height": 163
        }
      },
      "source": [
        "print(Contraste_Grao.head())"
      ],
      "execution_count": 0,
      "outputs": [
        {
          "output_type": "stream",
          "text": [
            "         0            1         2   ...        10        11        12\n",
            "0  0.051249   602.328840  0.365643  ...  3.041363 -0.794911  0.998111\n",
            "1  0.051357   358.185458  0.455260  ...  3.021880 -0.786490  0.997785\n",
            "2  0.050410  1091.308415  0.388338  ...  3.083138 -0.805934  0.998271\n",
            "3  0.050449   814.251225  0.409345  ...  3.083047 -0.810067  0.998500\n",
            "4  0.050801   724.794118  0.312578  ...  3.147821 -0.795408  0.998164\n",
            "\n",
            "[5 rows x 13 columns]\n"
          ],
          "name": "stdout"
        }
      ]
    },
    {
      "cell_type": "code",
      "metadata": {
        "id": "3ehKvYQAs9TP",
        "colab_type": "code",
        "outputId": "494c1462-9021-4383-97dc-0e029214d8b5",
        "colab": {
          "base_uri": "https://localhost:8080/",
          "height": 163
        }
      },
      "source": [
        "print(Contraste_Indef.head())"
      ],
      "execution_count": 0,
      "outputs": [
        {
          "output_type": "stream",
          "text": [
            "         0           1         2   ...        10        11        12\n",
            "0  0.056009  120.755310  0.321776  ...  2.767745 -0.700931  0.993236\n",
            "1  0.052668  321.672386  0.136216  ...  2.892483 -0.754262  0.996182\n",
            "2  0.053195  207.910948  0.321090  ...  2.900438 -0.777385  0.997112\n",
            "3  0.057138  209.535539  0.308492  ...  2.968791 -0.685876  0.990546\n",
            "4  0.068134   77.505310  0.230726  ...  2.552767 -0.597803  0.966357\n",
            "\n",
            "[5 rows x 13 columns]\n"
          ],
          "name": "stdout"
        }
      ]
    },
    {
      "cell_type": "code",
      "metadata": {
        "id": "dZSOVH78CeU_",
        "colab_type": "code",
        "outputId": "c0e3f078-125d-4123-ec9b-d1c73d9eed55",
        "colab": {
          "base_uri": "https://localhost:8080/",
          "height": 580
        }
      },
      "source": [
        "# found drive\n",
        "from google.colab import drive\n",
        "drive.mount('drive')"
      ],
      "execution_count": 0,
      "outputs": [
        {
          "output_type": "error",
          "ename": "KeyboardInterrupt",
          "evalue": "ignored",
          "traceback": [
            "\u001b[0;31m---------------------------------------------------------------------------\u001b[0m",
            "\u001b[0;31mKeyboardInterrupt\u001b[0m                         Traceback (most recent call last)",
            "\u001b[0;32m/usr/local/lib/python3.6/dist-packages/ipykernel/kernelbase.py\u001b[0m in \u001b[0;36m_input_request\u001b[0;34m(self, prompt, ident, parent, password)\u001b[0m\n\u001b[1;32m    729\u001b[0m             \u001b[0;32mtry\u001b[0m\u001b[0;34m:\u001b[0m\u001b[0;34m\u001b[0m\u001b[0;34m\u001b[0m\u001b[0m\n\u001b[0;32m--> 730\u001b[0;31m                 \u001b[0mident\u001b[0m\u001b[0;34m,\u001b[0m \u001b[0mreply\u001b[0m \u001b[0;34m=\u001b[0m \u001b[0mself\u001b[0m\u001b[0;34m.\u001b[0m\u001b[0msession\u001b[0m\u001b[0;34m.\u001b[0m\u001b[0mrecv\u001b[0m\u001b[0;34m(\u001b[0m\u001b[0mself\u001b[0m\u001b[0;34m.\u001b[0m\u001b[0mstdin_socket\u001b[0m\u001b[0;34m,\u001b[0m \u001b[0;36m0\u001b[0m\u001b[0;34m)\u001b[0m\u001b[0;34m\u001b[0m\u001b[0;34m\u001b[0m\u001b[0m\n\u001b[0m\u001b[1;32m    731\u001b[0m             \u001b[0;32mexcept\u001b[0m \u001b[0mException\u001b[0m\u001b[0;34m:\u001b[0m\u001b[0;34m\u001b[0m\u001b[0;34m\u001b[0m\u001b[0m\n",
            "\u001b[0;32m/usr/local/lib/python3.6/dist-packages/jupyter_client/session.py\u001b[0m in \u001b[0;36mrecv\u001b[0;34m(self, socket, mode, content, copy)\u001b[0m\n\u001b[1;32m    802\u001b[0m         \u001b[0;32mtry\u001b[0m\u001b[0;34m:\u001b[0m\u001b[0;34m\u001b[0m\u001b[0;34m\u001b[0m\u001b[0m\n\u001b[0;32m--> 803\u001b[0;31m             \u001b[0mmsg_list\u001b[0m \u001b[0;34m=\u001b[0m \u001b[0msocket\u001b[0m\u001b[0;34m.\u001b[0m\u001b[0mrecv_multipart\u001b[0m\u001b[0;34m(\u001b[0m\u001b[0mmode\u001b[0m\u001b[0;34m,\u001b[0m \u001b[0mcopy\u001b[0m\u001b[0;34m=\u001b[0m\u001b[0mcopy\u001b[0m\u001b[0;34m)\u001b[0m\u001b[0;34m\u001b[0m\u001b[0;34m\u001b[0m\u001b[0m\n\u001b[0m\u001b[1;32m    804\u001b[0m         \u001b[0;32mexcept\u001b[0m \u001b[0mzmq\u001b[0m\u001b[0;34m.\u001b[0m\u001b[0mZMQError\u001b[0m \u001b[0;32mas\u001b[0m \u001b[0me\u001b[0m\u001b[0;34m:\u001b[0m\u001b[0;34m\u001b[0m\u001b[0;34m\u001b[0m\u001b[0m\n",
            "\u001b[0;32m/usr/local/lib/python3.6/dist-packages/zmq/sugar/socket.py\u001b[0m in \u001b[0;36mrecv_multipart\u001b[0;34m(self, flags, copy, track)\u001b[0m\n\u001b[1;32m    465\u001b[0m         \"\"\"\n\u001b[0;32m--> 466\u001b[0;31m         \u001b[0mparts\u001b[0m \u001b[0;34m=\u001b[0m \u001b[0;34m[\u001b[0m\u001b[0mself\u001b[0m\u001b[0;34m.\u001b[0m\u001b[0mrecv\u001b[0m\u001b[0;34m(\u001b[0m\u001b[0mflags\u001b[0m\u001b[0;34m,\u001b[0m \u001b[0mcopy\u001b[0m\u001b[0;34m=\u001b[0m\u001b[0mcopy\u001b[0m\u001b[0;34m,\u001b[0m \u001b[0mtrack\u001b[0m\u001b[0;34m=\u001b[0m\u001b[0mtrack\u001b[0m\u001b[0;34m)\u001b[0m\u001b[0;34m]\u001b[0m\u001b[0;34m\u001b[0m\u001b[0;34m\u001b[0m\u001b[0m\n\u001b[0m\u001b[1;32m    467\u001b[0m         \u001b[0;31m# have first part already, only loop while more to receive\u001b[0m\u001b[0;34m\u001b[0m\u001b[0;34m\u001b[0m\u001b[0;34m\u001b[0m\u001b[0m\n",
            "\u001b[0;32mzmq/backend/cython/socket.pyx\u001b[0m in \u001b[0;36mzmq.backend.cython.socket.Socket.recv\u001b[0;34m()\u001b[0m\n",
            "\u001b[0;32mzmq/backend/cython/socket.pyx\u001b[0m in \u001b[0;36mzmq.backend.cython.socket.Socket.recv\u001b[0;34m()\u001b[0m\n",
            "\u001b[0;32mzmq/backend/cython/socket.pyx\u001b[0m in \u001b[0;36mzmq.backend.cython.socket._recv_copy\u001b[0;34m()\u001b[0m\n",
            "\u001b[0;32m/usr/local/lib/python3.6/dist-packages/zmq/backend/cython/checkrc.pxd\u001b[0m in \u001b[0;36mzmq.backend.cython.checkrc._check_rc\u001b[0;34m()\u001b[0m\n",
            "\u001b[0;31mKeyboardInterrupt\u001b[0m: ",
            "\nDuring handling of the above exception, another exception occurred:\n",
            "\u001b[0;31mKeyboardInterrupt\u001b[0m                         Traceback (most recent call last)",
            "\u001b[0;32m<ipython-input-25-7b0c2cba9ae5>\u001b[0m in \u001b[0;36m<module>\u001b[0;34m()\u001b[0m\n\u001b[1;32m      1\u001b[0m \u001b[0;32mfrom\u001b[0m \u001b[0mgoogle\u001b[0m\u001b[0;34m.\u001b[0m\u001b[0mcolab\u001b[0m \u001b[0;32mimport\u001b[0m \u001b[0mdrive\u001b[0m\u001b[0;34m\u001b[0m\u001b[0;34m\u001b[0m\u001b[0m\n\u001b[0;32m----> 2\u001b[0;31m \u001b[0mdrive\u001b[0m\u001b[0;34m.\u001b[0m\u001b[0mmount\u001b[0m\u001b[0;34m(\u001b[0m\u001b[0;34m'drive'\u001b[0m\u001b[0;34m)\u001b[0m\u001b[0;34m\u001b[0m\u001b[0;34m\u001b[0m\u001b[0m\n\u001b[0m",
            "\u001b[0;32m/usr/local/lib/python3.6/dist-packages/google/colab/drive.py\u001b[0m in \u001b[0;36mmount\u001b[0;34m(mountpoint, force_remount, timeout_ms, use_metadata_server)\u001b[0m\n\u001b[1;32m    236\u001b[0m       \u001b[0mauth_prompt\u001b[0m \u001b[0;34m=\u001b[0m \u001b[0md\u001b[0m\u001b[0;34m.\u001b[0m\u001b[0mmatch\u001b[0m\u001b[0;34m.\u001b[0m\u001b[0mgroup\u001b[0m\u001b[0;34m(\u001b[0m\u001b[0;36m1\u001b[0m\u001b[0;34m)\u001b[0m \u001b[0;34m+\u001b[0m \u001b[0;34m'\\nEnter your authorization code:\\n'\u001b[0m\u001b[0;34m\u001b[0m\u001b[0;34m\u001b[0m\u001b[0m\n\u001b[1;32m    237\u001b[0m       \u001b[0;32mwith\u001b[0m \u001b[0mopen\u001b[0m\u001b[0;34m(\u001b[0m\u001b[0mfifo\u001b[0m\u001b[0;34m,\u001b[0m \u001b[0;34m'w'\u001b[0m\u001b[0;34m)\u001b[0m \u001b[0;32mas\u001b[0m \u001b[0mfifo_file\u001b[0m\u001b[0;34m:\u001b[0m\u001b[0;34m\u001b[0m\u001b[0;34m\u001b[0m\u001b[0m\n\u001b[0;32m--> 238\u001b[0;31m         \u001b[0mfifo_file\u001b[0m\u001b[0;34m.\u001b[0m\u001b[0mwrite\u001b[0m\u001b[0;34m(\u001b[0m\u001b[0m_getpass\u001b[0m\u001b[0;34m.\u001b[0m\u001b[0mgetpass\u001b[0m\u001b[0;34m(\u001b[0m\u001b[0mauth_prompt\u001b[0m\u001b[0;34m)\u001b[0m \u001b[0;34m+\u001b[0m \u001b[0;34m'\\n'\u001b[0m\u001b[0;34m)\u001b[0m\u001b[0;34m\u001b[0m\u001b[0;34m\u001b[0m\u001b[0m\n\u001b[0m\u001b[1;32m    239\u001b[0m       \u001b[0mwrote_to_fifo\u001b[0m \u001b[0;34m=\u001b[0m \u001b[0;32mTrue\u001b[0m\u001b[0;34m\u001b[0m\u001b[0;34m\u001b[0m\u001b[0m\n\u001b[1;32m    240\u001b[0m   \u001b[0;32mif\u001b[0m \u001b[0;32mnot\u001b[0m \u001b[0mwrote_to_fifo\u001b[0m\u001b[0;34m:\u001b[0m\u001b[0;34m\u001b[0m\u001b[0;34m\u001b[0m\u001b[0m\n",
            "\u001b[0;32m/usr/local/lib/python3.6/dist-packages/ipykernel/kernelbase.py\u001b[0m in \u001b[0;36mgetpass\u001b[0;34m(self, prompt, stream)\u001b[0m\n\u001b[1;32m    686\u001b[0m             \u001b[0mself\u001b[0m\u001b[0;34m.\u001b[0m\u001b[0m_parent_ident\u001b[0m\u001b[0;34m,\u001b[0m\u001b[0;34m\u001b[0m\u001b[0;34m\u001b[0m\u001b[0m\n\u001b[1;32m    687\u001b[0m             \u001b[0mself\u001b[0m\u001b[0;34m.\u001b[0m\u001b[0m_parent_header\u001b[0m\u001b[0;34m,\u001b[0m\u001b[0;34m\u001b[0m\u001b[0;34m\u001b[0m\u001b[0m\n\u001b[0;32m--> 688\u001b[0;31m             \u001b[0mpassword\u001b[0m\u001b[0;34m=\u001b[0m\u001b[0;32mTrue\u001b[0m\u001b[0;34m,\u001b[0m\u001b[0;34m\u001b[0m\u001b[0;34m\u001b[0m\u001b[0m\n\u001b[0m\u001b[1;32m    689\u001b[0m         )\n\u001b[1;32m    690\u001b[0m \u001b[0;34m\u001b[0m\u001b[0m\n",
            "\u001b[0;32m/usr/local/lib/python3.6/dist-packages/ipykernel/kernelbase.py\u001b[0m in \u001b[0;36m_input_request\u001b[0;34m(self, prompt, ident, parent, password)\u001b[0m\n\u001b[1;32m    733\u001b[0m             \u001b[0;32mexcept\u001b[0m \u001b[0mKeyboardInterrupt\u001b[0m\u001b[0;34m:\u001b[0m\u001b[0;34m\u001b[0m\u001b[0;34m\u001b[0m\u001b[0m\n\u001b[1;32m    734\u001b[0m                 \u001b[0;31m# re-raise KeyboardInterrupt, to truncate traceback\u001b[0m\u001b[0;34m\u001b[0m\u001b[0;34m\u001b[0m\u001b[0;34m\u001b[0m\u001b[0m\n\u001b[0;32m--> 735\u001b[0;31m                 \u001b[0;32mraise\u001b[0m \u001b[0mKeyboardInterrupt\u001b[0m\u001b[0;34m\u001b[0m\u001b[0;34m\u001b[0m\u001b[0m\n\u001b[0m\u001b[1;32m    736\u001b[0m             \u001b[0;32melse\u001b[0m\u001b[0;34m:\u001b[0m\u001b[0;34m\u001b[0m\u001b[0;34m\u001b[0m\u001b[0m\n\u001b[1;32m    737\u001b[0m                 \u001b[0;32mbreak\u001b[0m\u001b[0;34m\u001b[0m\u001b[0;34m\u001b[0m\u001b[0m\n",
            "\u001b[0;31mKeyboardInterrupt\u001b[0m: "
          ]
        }
      ]
    },
    {
      "cell_type": "code",
      "metadata": {
        "id": "Lw8rqNu0CpQv",
        "colab_type": "code",
        "colab": {}
      },
      "source": [
        "# get csv file\n",
        "Contraste_Buraco.to_csv('Contraste_Buraco_jan_2020.csv')"
      ],
      "execution_count": 0,
      "outputs": []
    },
    {
      "cell_type": "code",
      "metadata": {
        "id": "QS3XRVNFtISH",
        "colab_type": "code",
        "colab": {}
      },
      "source": [
        "# get csv file\n",
        "Contraste_Grao.to_csv('Contraste_Grao_jan_2020.csv')"
      ],
      "execution_count": 0,
      "outputs": []
    },
    {
      "cell_type": "code",
      "metadata": {
        "id": "1r-ljDKotIlT",
        "colab_type": "code",
        "colab": {}
      },
      "source": [
        "# get csv file\n",
        "Contraste_Indef.to_csv('Contraste_Indef_jan_2020.csv')"
      ],
      "execution_count": 0,
      "outputs": []
    },
    {
      "cell_type": "code",
      "metadata": {
        "id": "6KFSiJ3tB7L2",
        "colab_type": "code",
        "colab": {}
      },
      "source": [
        "# save in drive\n",
        "!cp Contraste_Buraco_jan_2020.csv drive/My\\ Drive/Maria_Gabriela_Textura_dados_jan_2020/"
      ],
      "execution_count": 0,
      "outputs": []
    },
    {
      "cell_type": "code",
      "metadata": {
        "id": "foBD0uxUtROs",
        "colab_type": "code",
        "colab": {}
      },
      "source": [
        "# save in drive\n",
        "!cp Contraste_Grao_jan_2020.csv drive/My\\ Drive/Maria_Gabriela_Textura_dados_jan_2020/"
      ],
      "execution_count": 0,
      "outputs": []
    },
    {
      "cell_type": "code",
      "metadata": {
        "id": "g778xFc2tRh3",
        "colab_type": "code",
        "colab": {}
      },
      "source": [
        "# save in drive\n",
        "!cp Contraste_Indef_jan_2020.csv drive/My\\ Drive/Maria_Gabriela_Textura_dados_jan_2020/"
      ],
      "execution_count": 0,
      "outputs": []
    }
  ]
}