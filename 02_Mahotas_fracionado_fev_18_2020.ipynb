{
  "nbformat": 4,
  "nbformat_minor": 0,
  "metadata": {
    "colab": {
      "name": "02_Mahotas_fracionado_fev_18_2020.ipynb",
      "provenance": [],
      "collapsed_sections": [],
      "include_colab_link": true
    },
    "kernelspec": {
      "name": "python3",
      "display_name": "Python 3"
    },
    "accelerator": "GPU"
  },
  "cells": [
    {
      "cell_type": "markdown",
      "metadata": {
        "id": "view-in-github",
        "colab_type": "text"
      },
      "source": [
        "<a href=\"https://colab.research.google.com/github/ucfilho/marquesgabi_fev_2020/blob/master/02_Mahotas_fracionado_fev_18_2020.ipynb\" target=\"_parent\"><img src=\"https://colab.research.google.com/assets/colab-badge.svg\" alt=\"Open In Colab\"/></a>"
      ]
    },
    {
      "cell_type": "code",
      "metadata": {
        "id": "f393Z8HdEmRg",
        "colab_type": "code",
        "outputId": "cee1ec31-4832-4f7c-e5eb-349210bf4f52",
        "colab": {
          "base_uri": "https://localhost:8080/",
          "height": 53
        }
      },
      "source": [
        "!pip install mahotas"
      ],
      "execution_count": 1,
      "outputs": [
        {
          "output_type": "stream",
          "text": [
            "Requirement already satisfied: mahotas in /usr/local/lib/python3.6/dist-packages (1.4.9)\n",
            "Requirement already satisfied: numpy in /usr/local/lib/python3.6/dist-packages (from mahotas) (1.17.5)\n"
          ],
          "name": "stdout"
        }
      ]
    },
    {
      "cell_type": "code",
      "metadata": {
        "id": "8yb-DpxXF8Ht",
        "colab_type": "code",
        "colab": {}
      },
      "source": [
        "Escolha=['ASM', 'constrast', 'correl', 'variance', 'inv diff mom', 'sum aveg', \n",
        "         'sum var', 'sum entropy', 'entropy', 'dif var', 'dif entropy', \n",
        "         'IMC1', 'IMC2']\n",
        "Prop=Escolha[1] # Propriedade a escolher para ter picos, largura de pico, proeminencia,..."
      ],
      "execution_count": 0,
      "outputs": []
    },
    {
      "cell_type": "code",
      "metadata": {
        "id": "W0wfLMP8nWAM",
        "colab_type": "code",
        "outputId": "ba9bc010-0cea-4511-9a25-c5ab7ec7e09e",
        "colab": {
          "base_uri": "https://localhost:8080/",
          "height": 53
        }
      },
      "source": [
        "!git clone https://github.com/ucfilho/marquesgabi_fev_2020 #clonar do Github\n",
        "%cd marquesgabi_fev_2020"
      ],
      "execution_count": 3,
      "outputs": [
        {
          "output_type": "stream",
          "text": [
            "fatal: destination path 'marquesgabi_fev_2020' already exists and is not an empty directory.\n",
            "/content/marquesgabi_fev_2020\n"
          ],
          "name": "stdout"
        }
      ]
    },
    {
      "cell_type": "code",
      "metadata": {
        "id": "SzWdrvAgvBId",
        "colab_type": "code",
        "colab": {}
      },
      "source": [
        "import numpy as np\n",
        "import cv2\n",
        "from skimage import data\n",
        "import matplotlib.pyplot as plt\n",
        "import matplotlib\n",
        "import pandas as pd\n",
        "from skimage import io, util\n",
        "import mahotas.features.texture as mht\n",
        "import mahotas.features\n",
        "import os \n",
        "import zipfile\n",
        "from skimage import filters\n",
        "from skimage import exposure\n",
        "import skimage.feature as sk\n",
        "from google.colab import files\n",
        "from numpy import linalg as LA\n",
        "from scipy import stats\n",
        "from scipy.signal import find_peaks\n",
        "from scipy.signal import peak_prominences\n",
        "from scipy.signal import peak_widths\n",
        "from scipy import integrate\n",
        "import re\n",
        "import Go2BlackWhite\n",
        "import Go2Mahotas\n",
        "%matplotlib inline"
      ],
      "execution_count": 0,
      "outputs": []
    },
    {
      "cell_type": "code",
      "metadata": {
        "id": "xoW1HoWp3qNO",
        "colab_type": "code",
        "colab": {
          "base_uri": "https://localhost:8080/",
          "height": 35
        },
        "outputId": "7fafd514-5868-4a54-c779-5c59b4537e8f"
      },
      "source": [
        "\n",
        "Size=20 # tamanho da foto\n",
        "Sub_Size=int(Size/5) # tamanho do fracionamento\n",
        "Row_Crop=1/2 # posicao do corte\n",
        "Crop=int(Size*Row_Crop)\n",
        "''' '''"
      ],
      "execution_count": 5,
      "outputs": [
        {
          "output_type": "execute_result",
          "data": {
            "text/plain": [
              "' '"
            ]
          },
          "metadata": {
            "tags": []
          },
          "execution_count": 5
        }
      ]
    },
    {
      "cell_type": "code",
      "metadata": {
        "id": "c43TnWalRs_H",
        "colab_type": "code",
        "colab": {}
      },
      "source": [
        "Transfere='Fotos9Amostras.zip'\n",
        "file_name = zipfile.ZipFile(Transfere, 'r')\n",
        "file_name.extractall()"
      ],
      "execution_count": 0,
      "outputs": []
    },
    {
      "cell_type": "code",
      "metadata": {
        "id": "GrLtSCRor_By",
        "colab_type": "code",
        "outputId": "2ffa664d-5b54-48a0-eaab-c6c268849bad",
        "colab": {
          "base_uri": "https://localhost:8080/",
          "height": 266
        }
      },
      "source": [
        "ww,img_name=Go2BlackWhite.BlackWhite(Transfere,Size)\n",
        "plt.axis(\"off\")\n",
        "plt.imshow(ww[539], cmap = \"gray\")"
      ],
      "execution_count": 7,
      "outputs": [
        {
          "output_type": "execute_result",
          "data": {
            "text/plain": [
              "<matplotlib.image.AxesImage at 0x7f9eb71d6940>"
            ]
          },
          "metadata": {
            "tags": []
          },
          "execution_count": 7
        },
        {
          "output_type": "display_data",
          "data": {
            "image/png": "[encoded data removed]",
            "text/plain": [
              "<Figure size 432x288 with 1 Axes>"
            ]
          },
          "metadata": {
            "tags": []
          }
        }
      ]
    },
    {
      "cell_type": "code",
      "metadata": {
        "id": "rDUgTX8BMOoD",
        "colab_type": "code",
        "colab": {}
      },
      "source": [
        "NumFotos=len(img_name)\n",
        "Nomes_Mahotas=['ASM','constrast','correl','variance','inv diff mom','sum aveg',\n",
        "       'sum var','sum entropy','entropy','dif var','dif entropy','IMC1',\n",
        "       'IMC2']"
      ],
      "execution_count": 0,
      "outputs": []
    },
    {
      "cell_type": "code",
      "metadata": {
        "id": "pMJdA-nxIpQO",
        "colab_type": "code",
        "outputId": "f8348c76-2584-4576-c1a7-68e0f4a77303",
        "colab": {
          "base_uri": "https://localhost:8080/",
          "height": 55
        }
      },
      "source": [
        "Num,Row,Col=np.asarray(ww).shape\n",
        "Idx=[]\n",
        "New_Colunm=[]\n",
        "\n",
        "for i in range(Num):\n",
        "  Media=np.mean(ww[i])\n",
        "  k=np.where(ww[i].ravel() > Media)\n",
        "  Idx.append(np.asarray(k).ravel())\n",
        "\n",
        "Quant=Size*Size\n",
        "for i in Idx:\n",
        "  #print(i)\n",
        "  New_Colunm.append(len(i)/Quant)\n",
        "print(New_Colunm)"
      ],
      "execution_count": 9,
      "outputs": [
        {
          "output_type": "stream",
          "text": [
            "[0.48, 0.4725, 0.39, 0.435, 0.3625, 0.3675, 0.4825, 0.475, 0.515, 0.4975, 0.5, 0.6275, 0.49, 0.5425, 0.4325, 0.4625, 0.4475, 0.6575, 0.5325, 0.4125, 0.5325, 0.39, 0.5175, 0.48, 0.5625, 0.4675, 0.44, 0.54, 0.465, 0.4975, 0.5575, 0.54, 0.46, 0.48, 0.4475, 0.455, 0.3275, 0.4325, 0.4025, 0.4575, 0.5, 0.46, 0.63, 0.4325, 0.505, 0.4425, 0.4425, 0.485, 0.5, 0.5125, 0.5575, 0.4875, 0.43, 0.5625, 0.4475, 0.4625, 0.395, 0.515, 0.4925, 0.4725, 0.4125, 0.41, 0.4225, 0.4825, 0.53, 0.49, 0.38, 0.405, 0.4125, 0.41, 0.53, 0.5775, 0.4675, 0.4675, 0.5, 0.51, 0.53, 0.485, 0.4775, 0.5275, 0.495, 0.5525, 0.48, 0.5275, 0.4325, 0.4575, 0.5475, 0.56, 0.535, 0.5, 0.51, 0.525, 0.44, 0.435, 0.5125, 0.39, 0.565, 0.5075, 0.485, 0.4825, 0.3775, 0.5275, 0.5475, 0.5325, 0.58, 0.4275, 0.41, 0.5175, 0.5225, 0.44, 0.4375, 0.395, 0.535, 0.555, 0.4825, 0.4325, 0.4625, 0.4525, 0.495, 0.4925, 0.3625, 0.375, 0.355, 0.4075, 0.405, 0.465, 0.4575, 0.4725, 0.4825, 0.4375, 0.585, 0.5325, 0.57, 0.4775, 0.4425, 0.4025, 0.45, 0.4625, 0.615, 0.5575, 0.4675, 0.4175, 0.45, 0.4525, 0.4625, 0.525, 0.4625, 0.525, 0.455, 0.3875, 0.33, 0.5625, 0.33, 0.3675, 0.41, 0.5, 0.53, 0.4875, 0.47, 0.54, 0.41, 0.5125, 0.4975, 0.5575, 0.405, 0.6125, 0.5575, 0.5075, 0.4025, 0.4875, 0.4825, 0.4575, 0.43, 0.39, 0.45, 0.41, 0.435, 0.505, 0.5325, 0.46, 0.5175, 0.48, 0.48, 0.5525, 0.3875, 0.4575, 0.3975, 0.3575, 0.4975, 0.4, 0.5125, 0.5225, 0.4425, 0.495, 0.5625, 0.48, 0.475, 0.4625, 0.485, 0.39, 0.5325, 0.535, 0.4575, 0.475, 0.5075, 0.4475, 0.4625, 0.4775, 0.5025, 0.4575, 0.465, 0.515, 0.5475, 0.54, 0.4675, 0.3825, 0.4725, 0.505, 0.51, 0.5475, 0.4675, 0.4825, 0.47, 0.44, 0.4675, 0.575, 0.4275, 0.4925, 0.4575, 0.43, 0.5325, 0.495, 0.445, 0.46, 0.545, 0.5425, 0.5975, 0.495, 0.46, 0.52, 0.4475, 0.505, 0.51, 0.5025, 0.4725, 0.465, 0.6425, 0.4275, 0.3775, 0.4475, 0.535, 0.4125, 0.5775, 0.4175, 0.3875, 0.4425, 0.505, 0.4475, 0.43, 0.4175, 0.4525, 0.4825, 0.5025, 0.475, 0.345, 0.3925, 0.4925, 0.4875, 0.43, 0.355, 0.41, 0.49, 0.56, 0.4225, 0.425, 0.405, 0.3525, 0.4675, 0.525, 0.5375, 0.4475, 0.5525, 0.485, 0.3825, 0.455, 0.4275, 0.5125, 0.47, 0.48, 0.3925, 0.485, 0.5925, 0.5175, 0.3375, 0.3225, 0.4025, 0.555, 0.4525, 0.36, 0.4425, 0.4125, 0.4775, 0.45, 0.435, 0.5, 0.4275, 0.43, 0.3825, 0.295, 0.5075, 0.6425, 0.515, 0.6, 0.5075, 0.5325, 0.465, 0.5275, 0.49, 0.6075, 0.405, 0.4675, 0.4625, 0.485, 0.465, 0.4525, 0.505, 0.4475, 0.525, 0.4675, 0.52, 0.565, 0.4575, 0.425, 0.3975, 0.5125, 0.5, 0.4, 0.3475, 0.385, 0.45, 0.495, 0.405, 0.4975, 0.52, 0.4975, 0.5225, 0.54, 0.4675, 0.3975, 0.4175, 0.5225, 0.5, 0.4775, 0.4925, 0.515, 0.495, 0.49, 0.5525, 0.46, 0.445, 0.3125, 0.33, 0.485, 0.39, 0.365, 0.43, 0.46, 0.5275, 0.5675, 0.47, 0.5825, 0.61, 0.625, 0.56, 0.5075, 0.3675, 0.485, 0.3825, 0.4975, 0.5175, 0.3225, 0.52, 0.545, 0.3375, 0.39, 0.5325, 0.5075, 0.5425, 0.53, 0.45, 0.4825, 0.6025, 0.53, 0.6025, 0.44, 0.4575, 0.3675, 0.4875, 0.395, 0.4825, 0.6175, 0.5025, 0.4825, 0.6225, 0.4525, 0.5125, 0.46, 0.5, 0.5775, 0.5225, 0.6125, 0.48, 0.515, 0.5325, 0.4825, 0.3875, 0.5475, 0.4875, 0.5425, 0.5, 0.3675, 0.3875, 0.445, 0.495, 0.465, 0.425, 0.4975, 0.525, 0.4025, 0.34, 0.515, 0.6175, 0.55, 0.63, 0.5375, 0.6425, 0.6075, 0.5625, 0.54, 0.55, 0.505, 0.52, 0.5975, 0.545, 0.5375, 0.4925, 0.545, 0.595, 0.615, 0.5925, 0.4575, 0.37, 0.575, 0.3925, 0.4575, 0.355, 0.34, 0.3125, 0.37, 0.4875, 0.5625, 0.6575, 0.67, 0.555, 0.5375, 0.585, 0.5725, 0.62, 0.48, 0.585, 0.545, 0.715, 0.49, 0.5, 0.5375, 0.535, 0.635, 0.5975, 0.525, 0.5175, 0.4875, 0.4875, 0.5375, 0.5375, 0.455, 0.5725, 0.405, 0.5375, 0.53, 0.3925, 0.5025, 0.5925, 0.57, 0.5775, 0.6525, 0.5775, 0.6425, 0.6375, 0.56, 0.6275, 0.5125, 0.5175, 0.405, 0.4575, 0.5, 0.4425, 0.55, 0.6175, 0.525, 0.5475, 0.36, 0.5, 0.57, 0.505, 0.5225, 0.4875, 0.4475, 0.57, 0.535, 0.385, 0.6175, 0.6125, 0.6375, 0.63, 0.4775, 0.495, 0.62, 0.5, 0.6075, 0.6, 0.565, 0.495, 0.5075, 0.4625, 0.5775, 0.53, 0.44, 0.51, 0.5225, 0.5325]\n"
          ],
          "name": "stdout"
        }
      ]
    },
    {
      "cell_type": "code",
      "metadata": {
        "id": "LKmJaSroR9XJ",
        "colab_type": "code",
        "outputId": "f7feb7a3-31ca-46f5-84fb-a10a143f73bc",
        "colab": {
          "base_uri": "https://localhost:8080/",
          "height": 35
        }
      },
      "source": [
        "print(len(New_Colunm))"
      ],
      "execution_count": 10,
      "outputs": [
        {
          "output_type": "stream",
          "text": [
            "540\n"
          ],
          "name": "stdout"
        }
      ]
    },
    {
      "cell_type": "code",
      "metadata": {
        "id": "MukX2r3ys3tm",
        "colab_type": "code",
        "colab": {}
      },
      "source": [
        "# Find the list elements starting with specific letter\n",
        "subs = 'B'\n",
        "Buraco = [x for x in img_name if re.search(subs, x)] \n",
        "subs = 'G'\n",
        "Grao = [x for x in img_name if re.search(subs, x)] \n",
        "subs = 'I'\n",
        "Indef = [x for x in img_name if re.search(subs, x)] "
      ],
      "execution_count": 0,
      "outputs": []
    },
    {
      "cell_type": "code",
      "metadata": {
        "id": "jEeQ6NiHRLJs",
        "colab_type": "code",
        "colab": {}
      },
      "source": [
        "#foto 0 (k=0)\n",
        "'''\n",
        "Size=20 # tamanho da foto\n",
        "Sub_Size=int(Size/5) # tamanho do fracionamento\n",
        "Row_Crop=1/2 # posicao do corte\n",
        "Crop=int(Size*Row_Crop)\n",
        "'''\n",
        "Todas_Fotos=[] \n",
        "# Todas_Fotos tem os valores medio da propriedade cada linha representa \n",
        "# uma foto e cada coluna as subdivisoes da foto\n",
        "for k in range(NumFotos):\n",
        "  Prop_Escolhida=[]\n",
        "  #p_foto=ww[k,:].reshape(Size,Size)\n",
        "  p_foto=ww[k].reshape(Size,Size)\n",
        "  GLCM=[]\n",
        "  glcm_haralick=[]\n",
        "  x_ref=[]\n",
        "  Count=Sub_Size\n",
        "  p=np.zeros((Sub_Size,Sub_Size))\n",
        "  j_ref=0\n",
        "  Cada_foto=[]\n",
        "  Posicao_X=[]\n",
        "  Posicao_Y=[]\n",
        "  for k in range(Size):\n",
        "    if((k+Sub_Size-1)<Size):\n",
        "      #print(\"(k+Sub_Size)=\",(k+Sub_Size),\"k=\",k)\n",
        "      for i in range(Sub_Size):\n",
        "        Posicao_X.append(Crop+i)\n",
        "        for j in range(Sub_Size):\n",
        "          p[i,j]=p_foto[Crop+i,j+k]\n",
        "          Posicao_Y.append(j+k)\n",
        "\n",
        "      WW=np.copy(p) \n",
        "      Cada_foto.append(WW.ravel())\n",
        "      x_ref.append(Count-Sub_Size)\n",
        "      Count=Count+1\n",
        "     \n",
        "      Mahotas =pd.DataFrame(mahotas.features.haralick(p.astype(int)), columns =Escolha)\n",
        "      Prop_Escolhida.append(Mahotas[Prop].mean())\n",
        "      '''\n",
        "      GLCM=[]\n",
        "      for ii in Escolha:\n",
        "        GLCM.append(Mahotas[ii].mean())\n",
        "        #print('cheguei aqui!!!')\n",
        "      glcm_haralick.append(GLCM)\n",
        "      '''\n",
        "  Todas_Fotos.append(Prop_Escolhida)\n",
        "\n",
        "df=pd.DataFrame(Todas_Fotos)\n",
        "\n"
      ],
      "execution_count": 0,
      "outputs": []
    },
    {
      "cell_type": "code",
      "metadata": {
        "id": "Liq_cEDz1kPV",
        "colab_type": "code",
        "colab": {
          "base_uri": "https://localhost:8080/",
          "height": 267
        },
        "outputId": "71e24071-e494-4312-d9d6-27abc687fde4"
      },
      "source": [
        "print(df)"
      ],
      "execution_count": 17,
      "outputs": [
        {
          "output_type": "stream",
          "text": [
            "              0            1           2   ...           14           15          16\n",
            "0      15.805556    59.854167   90.243056  ...    22.236111   221.625000  263.694444\n",
            "1     334.513889   166.770833   21.409722  ...   160.145833   162.298611  266.145833\n",
            "2      36.465278    73.875000  118.305556  ...   169.034722   264.666667  309.222222\n",
            "3      77.875000   403.062500  868.902778  ...    32.930556   123.861111  439.076389\n",
            "4      30.006944    13.534722   20.555556  ...   343.784722   177.465278  235.729167\n",
            "..           ...          ...         ...  ...          ...          ...         ...\n",
            "535   632.069444   513.083333  294.055556  ...   144.708333   129.006944  148.722222\n",
            "536  1858.451389  1918.118056  810.284722  ...  2254.291667  1501.819444  774.548611\n",
            "537    57.263889    80.770833   87.458333  ...    19.097222    23.743056   37.451389\n",
            "538    69.125000    89.659722  107.888889  ...    11.131944    15.027778   16.284722\n",
            "539    68.451389    84.868056   80.138889  ...    29.826389    23.097222   17.006944\n",
            "\n",
            "[540 rows x 17 columns]\n"
          ],
          "name": "stdout"
        }
      ]
    },
    {
      "cell_type": "code",
      "metadata": {
        "id": "vexwAn9InTeA",
        "colab_type": "code",
        "colab": {
          "base_uri": "https://localhost:8080/",
          "height": 142
        },
        "outputId": "c7b6865d-f277-48ac-d9cb-3ee1e84890ee"
      },
      "source": [
        "# print(len(GLCM)) # uma foto media dos angulos\n",
        "# print(df) # df uma foto\n",
        "print(Mahotas)\n"
      ],
      "execution_count": 13,
      "outputs": [
        {
          "output_type": "stream",
          "text": [
            "        ASM  constrast    correl  ...  dif entropy      IMC1      IMC2\n",
            "0  0.065972   7.416667  0.814953  ...     2.125815 -0.728814  0.995476\n",
            "1  0.067901  11.000000  0.649558  ...     2.197160 -0.765247  0.996244\n",
            "2  0.041667  18.500000  0.516691  ...     2.355389 -0.598751  0.990013\n",
            "3  0.055556  31.111111  0.156062  ...     2.419382 -0.712628  0.995044\n",
            "\n",
            "[4 rows x 13 columns]\n"
          ],
          "name": "stdout"
        }
      ]
    },
    {
      "cell_type": "code",
      "metadata": {
        "id": "DEJ2xcDgtNRH",
        "colab_type": "code",
        "colab": {
          "base_uri": "https://localhost:8080/",
          "height": 53
        },
        "outputId": "47d1e66c-5dbc-4b8c-af7b-13495715a103"
      },
      "source": [
        "print(len(Cada_foto[0])) # Cada_foto contem a foto pequena varida\n",
        "print(np.array(Cada_foto).shape)"
      ],
      "execution_count": 14,
      "outputs": [
        {
          "output_type": "stream",
          "text": [
            "16\n",
            "(17, 16)\n"
          ],
          "name": "stdout"
        }
      ]
    },
    {
      "cell_type": "code",
      "metadata": {
        "id": "tmb-2xLwuEml",
        "colab_type": "code",
        "colab": {
          "base_uri": "https://localhost:8080/",
          "height": 53
        },
        "outputId": "b8224987-9640-41c8-a101-034b21c97e80"
      },
      "source": [
        "print(Cada_foto[0])"
      ],
      "execution_count": 15,
      "outputs": [
        {
          "output_type": "stream",
          "text": [
            "[ 96.  98. 110. 120.  99.  98. 108. 128.  96. 104. 110. 115. 103. 108.\n",
            " 111. 110.]\n"
          ],
          "name": "stdout"
        }
      ]
    },
    {
      "cell_type": "code",
      "metadata": {
        "id": "hZF4pOns2qOy",
        "colab_type": "code",
        "colab": {
          "base_uri": "https://localhost:8080/",
          "height": 35
        },
        "outputId": "39c3bd25-f9a8-4e88-f178-7a53302f7eb8"
      },
      "source": [
        "print(NumFotos)"
      ],
      "execution_count": 18,
      "outputs": [
        {
          "output_type": "stream",
          "text": [
            "540\n"
          ],
          "name": "stdout"
        }
      ]
    },
    {
      "cell_type": "code",
      "metadata": {
        "id": "IPEQ7pf5NUjs",
        "colab_type": "code",
        "colab": {
          "base_uri": "https://localhost:8080/",
          "height": 205
        },
        "outputId": "b586e326-e262-4ad2-93ba-22ecb876e212"
      },
      "source": [
        "# esta parte calcula picos, area abaixo da curva antes ela precisa gerar \n",
        "# o dataframe que contem a propriedade escolhida com uma foto em cada linha ....\n",
        "for i in range(NumFotos):\n",
        "  x=df.iloc[i]\n",
        "  peaks, rr = find_peaks(x, height=0)\n",
        "\n",
        "  N_peaks=len(peaks)\n",
        "  prominences = peak_prominences(x, peaks)\n",
        "  Media_proem=np.mean(prominences)\n",
        "  #Area = simps(x, dx=1)\n",
        "  Area = integrate.simps(x, dx=1)\n",
        "  Width_peaks =np.mean(peak_widths(x, peaks, rel_height=0.5))\n",
        "  Width_peaks_max =np.max(peak_widths(x, peaks, rel_height=0.5))\n",
        "  Width_peaks_min =np.min(peak_widths(x, peaks, rel_height=0.5))\n",
        "  Median = np.median(x)\n",
        "  Mode= stats.mode(x)[0]\n",
        "  Mean=np.mean(x)\n",
        "  Sd=np.std(x)\n",
        "\n",
        "  Features=[]\n",
        "  Features.append(N_peaks)\n",
        "  Features.append(Media_proem )\n",
        "  Features.append(Area)\n",
        "  Features.append(Width_peaks )\n",
        "  Features.append(Width_peaks_max)\n",
        "  Features.append(Width_peaks_min)\n",
        "  Features.append(Median )\n",
        "  Features.append(Mode[0])\n",
        "  Features.append(Mean)\n",
        "  Features.append(Sd)\n",
        "\n",
        "  Nomes_Fracionada=['N_peaks','Media_proem','Area','Width_peaks','Width_peaks_max',\n",
        "                    'Width_peaks_min','Median','Mode','Mean','Sd'] \n",
        "  \n",
        "  Features=pd.DataFrame(Features,index=Nomes_Fracionada)\n",
        "  #matriz_x_b[i,:]=np.array(Features.loc[:,0])"
      ],
      "execution_count": 27,
      "outputs": [
        {
          "output_type": "error",
          "ename": "NameError",
          "evalue": "ignored",
          "traceback": [
            "\u001b[0;31m---------------------------------------------------------------------------\u001b[0m",
            "\u001b[0;31mNameError\u001b[0m                                 Traceback (most recent call last)",
            "\u001b[0;32m<ipython-input-27-d3c7d5079ed2>\u001b[0m in \u001b[0;36m<module>\u001b[0;34m()\u001b[0m\n\u001b[1;32m     32\u001b[0m \u001b[0;34m\u001b[0m\u001b[0m\n\u001b[1;32m     33\u001b[0m   \u001b[0mFeatures\u001b[0m\u001b[0;34m=\u001b[0m\u001b[0mpd\u001b[0m\u001b[0;34m.\u001b[0m\u001b[0mDataFrame\u001b[0m\u001b[0;34m(\u001b[0m\u001b[0mFeatures\u001b[0m\u001b[0;34m,\u001b[0m\u001b[0mindex\u001b[0m\u001b[0;34m=\u001b[0m\u001b[0mNomes_Fracionada\u001b[0m\u001b[0;34m)\u001b[0m\u001b[0;34m\u001b[0m\u001b[0;34m\u001b[0m\u001b[0m\n\u001b[0;32m---> 34\u001b[0;31m   \u001b[0mmatriz_x_b\u001b[0m\u001b[0;34m[\u001b[0m\u001b[0mi\u001b[0m\u001b[0;34m,\u001b[0m\u001b[0;34m:\u001b[0m\u001b[0;34m]\u001b[0m\u001b[0;34m=\u001b[0m\u001b[0mnp\u001b[0m\u001b[0;34m.\u001b[0m\u001b[0marray\u001b[0m\u001b[0;34m(\u001b[0m\u001b[0mFeatures\u001b[0m\u001b[0;34m.\u001b[0m\u001b[0mloc\u001b[0m\u001b[0;34m[\u001b[0m\u001b[0;34m:\u001b[0m\u001b[0;34m,\u001b[0m\u001b[0;36m0\u001b[0m\u001b[0;34m]\u001b[0m\u001b[0;34m)\u001b[0m\u001b[0;34m\u001b[0m\u001b[0;34m\u001b[0m\u001b[0m\n\u001b[0m",
            "\u001b[0;31mNameError\u001b[0m: name 'matriz_x_b' is not defined"
          ]
        }
      ]
    },
    {
      "cell_type": "code",
      "metadata": {
        "id": "98w8k0B958aY",
        "colab_type": "code",
        "colab": {
          "base_uri": "https://localhost:8080/",
          "height": 213
        },
        "outputId": "40cbb4f3-4d59-4bff-bc7d-c0e6178d01ce"
      },
      "source": [
        "print(Features)"
      ],
      "execution_count": 28,
      "outputs": [
        {
          "output_type": "stream",
          "text": [
            "                           0\n",
            "N_peaks             2.000000\n",
            "Media_proem        21.739583\n",
            "Area             1024.861111\n",
            "Width_peaks        14.813687\n",
            "Width_peaks_max    54.423611\n",
            "Width_peaks_min     0.876714\n",
            "Median             41.708333\n",
            "Mode               15.805556\n",
            "Mean               66.996324\n",
            "Sd                 68.468751\n"
          ],
          "name": "stdout"
        }
      ]
    },
    {
      "cell_type": "code",
      "metadata": {
        "id": "XdNxNEmF0hFo",
        "colab_type": "code",
        "colab": {}
      },
      "source": [
        "print(Features)"
      ],
      "execution_count": 0,
      "outputs": []
    },
    {
      "cell_type": "code",
      "metadata": {
        "id": "WkQzQVXn3k42",
        "colab_type": "code",
        "colab": {}
      },
      "source": [
        "# find df texture for a given picture\n",
        "df=Go2Mahotas.Mahotas(ww[0],Size,Sub_Size,Crop,img_name)\n",
        "print(df)"
      ],
      "execution_count": 0,
      "outputs": []
    },
    {
      "cell_type": "code",
      "metadata": {
        "id": "eZZY2MIIMBvb",
        "colab_type": "code",
        "colab": {}
      },
      "source": [
        "row_b,col=df_b.shape # pega quantas fotos tem"
      ],
      "execution_count": 0,
      "outputs": []
    },
    {
      "cell_type": "code",
      "metadata": {
        "id": "P4XVtqp4HGIs",
        "colab_type": "code",
        "colab": {}
      },
      "source": [
        "print(len(New_Colunm))"
      ],
      "execution_count": 0,
      "outputs": []
    },
    {
      "cell_type": "code",
      "metadata": {
        "id": "U2ymyUPFiADf",
        "colab_type": "code",
        "colab": {}
      },
      "source": [
        "j=0\n",
        "cont=-1\n",
        "Posicao_Buraco=[]\n",
        "for i in img_name:\n",
        "  cont=cont+1\n",
        "  for k in Buraco:\n",
        "    if(i==k):\n",
        "      Posicao_Buraco.append(cont)\n",
        "j=0\n",
        "cont=-1\n",
        "Posicao_Grao=[]\n",
        "for i in img_name:\n",
        "  cont=cont+1\n",
        "  for k in Grao:\n",
        "    if(i==k):\n",
        "      Posicao_Grao.append(cont)\n",
        "\n",
        "j=0\n",
        "cont=-1\n",
        "Posicao_Indef=[]\n",
        "for i in img_name:\n",
        "  cont=cont+1\n",
        "  for k in Indef:\n",
        "    if(i==k):\n",
        "      Posicao_Indef.append(cont)\n",
        "\n",
        "# print(Posicao_Grao)\n",
        "# print(Posicao_Buraco)\n",
        "# print(Posicao_Indef)\n"
      ],
      "execution_count": 0,
      "outputs": []
    },
    {
      "cell_type": "code",
      "metadata": {
        "id": "23vdxpKHZEzN",
        "colab_type": "code",
        "colab": {}
      },
      "source": [
        "print(np.asarray(New_Colunm)[Posicao_Buraco])"
      ],
      "execution_count": 0,
      "outputs": []
    },
    {
      "cell_type": "code",
      "metadata": {
        "id": "gdi4zaRoJ34B",
        "colab_type": "code",
        "colab": {}
      },
      "source": [
        ""
      ],
      "execution_count": 0,
      "outputs": []
    },
    {
      "cell_type": "code",
      "metadata": {
        "id": "aNTlSGubnL3P",
        "colab_type": "code",
        "colab": {}
      },
      "source": [
        "\n",
        "# compara constrast dos tres primeiros buracos\n",
        "Num=len(Posicao_Buraco)\n",
        "Matriz_X_Buraco=[]\n",
        "#Efeito_escuro=[]\n",
        "#Num=3\n",
        "for i in range(Num):\n",
        "  k=Posicao_Buraco[i]\n",
        "  df=Go2Mahotas.Mahotas(ww[k],Size,Sub_Size,Crop,img_name)\n",
        "  Matriz_X_Buraco.append(np.array(df[Prop]).ravel())\n",
        "Contraste_Buraco=pd.DataFrame(Matriz_X_Buraco)"
      ],
      "execution_count": 0,
      "outputs": []
    },
    {
      "cell_type": "code",
      "metadata": {
        "id": "q-3MXzSkZvh7",
        "colab_type": "code",
        "colab": {}
      },
      "source": [
        "Row,Col=Contraste_Buraco.shape\n",
        "New=np.asarray(New_Colunm)[Posicao_Buraco]\n",
        "#Matriz_New = np.hstack(Matriz_X_Buraco,New)\n",
        "#print(Matriz_New)\n",
        "Contraste_Buraco=pd.DataFrame(Matriz_X_Buraco)\n",
        "Contraste_Buraco[Col]=New\n",
        "print(Contraste_Buraco)"
      ],
      "execution_count": 0,
      "outputs": []
    },
    {
      "cell_type": "code",
      "metadata": {
        "id": "FKpqBGqMq0U2",
        "colab_type": "code",
        "colab": {}
      },
      "source": [
        "# compara constrast dos graos\n",
        "Num=len(Posicao_Grao)\n",
        "Matriz_X_Grao=[]\n",
        "for i in range(Num):\n",
        "  k=Posicao_Grao[i]\n",
        "  df=Go2Mahotas.Mahotas(ww[k],Size,Sub_Size,Crop,img_name)\n",
        "  Matriz_X_Grao.append(np.array(df['constrast']).ravel())\n",
        "\n",
        "Contraste_Grao=pd.DataFrame(Matriz_X_Grao)"
      ],
      "execution_count": 0,
      "outputs": []
    },
    {
      "cell_type": "code",
      "metadata": {
        "id": "O8C8T8vDbJwG",
        "colab_type": "code",
        "colab": {}
      },
      "source": [
        "Row,Col=Contraste_Buraco.shape\n",
        "New=np.asarray(New_Colunm)[Posicao_Grao]\n",
        "Contraste_Grao[Col]=New\n",
        "print(Contraste_Grao)"
      ],
      "execution_count": 0,
      "outputs": []
    },
    {
      "cell_type": "code",
      "metadata": {
        "id": "uno28vfVq0lc",
        "colab_type": "code",
        "colab": {}
      },
      "source": [
        "# compara constrast dos indefinidos\n",
        "Num=len(Posicao_Indef)\n",
        "Matriz_X_Indef=[]\n",
        "for i in range(Num):\n",
        "  k=Posicao_Indef[i]\n",
        "  df=Go2Mahotas.Mahotas(ww[k],Size,Sub_Size,Crop,img_name)\n",
        "  Matriz_X_Indef.append(np.array(df['constrast']).ravel())\n",
        "\n",
        "Contraste_Indef=pd.DataFrame(Matriz_X_Indef)"
      ],
      "execution_count": 0,
      "outputs": []
    },
    {
      "cell_type": "code",
      "metadata": {
        "id": "7N4B7Iq-bcWd",
        "colab_type": "code",
        "colab": {}
      },
      "source": [
        "Row,Col=Contraste_Indef.shape\n",
        "New=np.asarray(New_Colunm)[Posicao_Indef]\n",
        "Contraste_Indef[Col]=New\n",
        "print(Contraste_Indef)"
      ],
      "execution_count": 0,
      "outputs": []
    },
    {
      "cell_type": "code",
      "metadata": {
        "id": "EHSBh2ye9WV8",
        "colab_type": "code",
        "colab": {}
      },
      "source": [
        "print(Contraste_Buraco.head(15))"
      ],
      "execution_count": 0,
      "outputs": []
    },
    {
      "cell_type": "code",
      "metadata": {
        "id": "k5e1EwMAs84e",
        "colab_type": "code",
        "colab": {}
      },
      "source": [
        "print(Contraste_Grao.head(15))"
      ],
      "execution_count": 0,
      "outputs": []
    },
    {
      "cell_type": "code",
      "metadata": {
        "id": "3ehKvYQAs9TP",
        "colab_type": "code",
        "colab": {}
      },
      "source": [
        "print(Contraste_Indef.head(15))"
      ],
      "execution_count": 0,
      "outputs": []
    },
    {
      "cell_type": "code",
      "metadata": {
        "id": "dZSOVH78CeU_",
        "colab_type": "code",
        "colab": {}
      },
      "source": [
        "# found drive\n",
        "from google.colab import drive\n",
        "drive.mount('drive')"
      ],
      "execution_count": 0,
      "outputs": []
    },
    {
      "cell_type": "code",
      "metadata": {
        "id": "Lw8rqNu0CpQv",
        "colab_type": "code",
        "colab": {}
      },
      "source": [
        "# get csv file\n",
        "Contraste_Buraco.to_csv('Contraste_Buraco_01_jan_2020.csv')"
      ],
      "execution_count": 0,
      "outputs": []
    },
    {
      "cell_type": "code",
      "metadata": {
        "id": "QS3XRVNFtISH",
        "colab_type": "code",
        "colab": {}
      },
      "source": [
        "# get csv file\n",
        "Contraste_Grao.to_csv('Contraste_Grao_01_jan_2020.csv')"
      ],
      "execution_count": 0,
      "outputs": []
    },
    {
      "cell_type": "code",
      "metadata": {
        "id": "1r-ljDKotIlT",
        "colab_type": "code",
        "colab": {}
      },
      "source": [
        "# get csv file\n",
        "Contraste_Indef.to_csv('Contraste_Indef_01_jan_2020.csv')"
      ],
      "execution_count": 0,
      "outputs": []
    },
    {
      "cell_type": "code",
      "metadata": {
        "id": "6KFSiJ3tB7L2",
        "colab_type": "code",
        "colab": {}
      },
      "source": [
        "# save in drive\n",
        "!cp Contraste_Buraco_01_jan_2020.csv drive/My\\ Drive/Maria_Gabriela_Textura_dados_jan_2020/"
      ],
      "execution_count": 0,
      "outputs": []
    },
    {
      "cell_type": "code",
      "metadata": {
        "id": "foBD0uxUtROs",
        "colab_type": "code",
        "colab": {}
      },
      "source": [
        "# save in drive\n",
        "!cp Contraste_Grao_01_jan_2020.csv drive/My\\ Drive/Maria_Gabriela_Textura_dados_jan_2020/"
      ],
      "execution_count": 0,
      "outputs": []
    },
    {
      "cell_type": "code",
      "metadata": {
        "id": "g778xFc2tRh3",
        "colab_type": "code",
        "colab": {}
      },
      "source": [
        "# save in drive\n",
        "!cp Contraste_Indef_01_jan_2020.csv drive/My\\ Drive/Maria_Gabriela_Textura_dados_jan_2020/"
      ],
      "execution_count": 0,
      "outputs": []
    }
  ]
}